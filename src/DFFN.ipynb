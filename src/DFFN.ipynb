{
  "nbformat": 4,
  "nbformat_minor": 0,
  "metadata": {
    "kernelspec": {
      "display_name": "Python 3",
      "language": "python",
      "name": "python3"
    },
    "language_info": {
      "codemirror_mode": {
        "name": "ipython",
        "version": 3
      },
      "file_extension": ".py",
      "mimetype": "text/x-python",
      "name": "python",
      "nbconvert_exporter": "python",
      "pygments_lexer": "ipython3",
      "version": "3.6.10"
    },
    "colab": {
      "name": "DFFN.ipynb",
      "provenance": [],
      "collapsed_sections": []
    }
  },
  "cells": [
    {
      "cell_type": "markdown",
      "metadata": {
        "id": "4HxhetsfSiP9",
        "colab_type": "text"
      },
      "source": [
        "**ΠΑΡΑΚΑΤΩ ΕΧΟΥΜΕ ΑΠΛΑ ΠΑΡΑΔΕΙΓΜΑΤΑ ΝΕΥΡΩΝΙΚΩΝ ΔΙΚΤΥΩΝ ΜΕ ΤΗΝ ΧΡΗΣΗ ΔΙΑΦΟΡΩΝ ΤΕΧΝΙΚΩΝ ΟΜΑΛΟΠΟΙΗΣΗΣ\n",
        "ΣΥΜΒΟΥΛΗ ΜΟΥ ΕΙΝΑΙ ΟΤΙ Ο L2 REG ΘΑ ΟΔΗΓΗΣΕΙ ΣΕ ΚΑΛΥΤΕΡΑ ΑΠΟΤΕΛΕΣΜΑΤΑ ΚΑΙ ΕΠΙΣΗΣ ΓΙΑ ΤΟ ΠΟΣΟ ΒΑΘΥ ΜΠΟΡΕΙ ΝΑ ΕΙΝΑΙ ΕΝΑ ΔΙΚΤΥΟ \n",
        "ΚΑΘΩς ΚΑΙ ΤΟ ΠΟΣΟ ΠΥΚΝΟ ΝΑ ΧΡΗΣΙΜΟΠΟΙΗΣΕΙΣ ΤΗΝ ΣΥΝΑΡΤΗΣΗ GRID\n**"
         ]
    },
    {
      "cell_type": "code",
      "metadata": {
        "id": "CTjrxq5W962q",
        "colab_type": "code",
        "outputId": "b12316bf-836e-457e-b8bd-64df03c1d0a2",
        "colab": {
          "base_uri": "https://localhost:8080/",
          "height": 1000
        }
      },
      "source": [
        "!pip install --upgrade keras\n",
        "!pip install --upgrade matplotlib\n",
        "!pip install --upgrade numpy\n",
        "!pip install --upgrade tensorflow\n",
        "!pip install --upgrade pandas\n",
        "!pip install --upgrade pactools"
      ],
      "execution_count": 1,
      "outputs": [
        {
          "output_type": "stream",
          "text": [
            "Requirement already up-to-date: keras in /usr/local/lib/python3.6/dist-packages (2.3.1)\n",
            "Requirement already satisfied, skipping upgrade: h5py in /usr/local/lib/python3.6/dist-packages (from keras) (2.10.0)\n",
            "Requirement already satisfied, skipping upgrade: keras-applications>=1.0.6 in /usr/local/lib/python3.6/dist-packages (from keras) (1.0.8)\n",
            "Requirement already satisfied, skipping upgrade: six>=1.9.0 in /usr/local/lib/python3.6/dist-packages (from keras) (1.12.0)\n",
            "Requirement already satisfied, skipping upgrade: numpy>=1.9.1 in /usr/local/lib/python3.6/dist-packages (from keras) (1.18.2)\n",
            "Requirement already satisfied, skipping upgrade: keras-preprocessing>=1.0.5 in /usr/local/lib/python3.6/dist-packages (from keras) (1.1.0)\n",
            "Requirement already satisfied, skipping upgrade: scipy>=0.14 in /usr/local/lib/python3.6/dist-packages (from keras) (1.4.1)\n",
            "Requirement already satisfied, skipping upgrade: pyyaml in /usr/local/lib/python3.6/dist-packages (from keras) (3.13)\n",
            "Requirement already up-to-date: matplotlib in /usr/local/lib/python3.6/dist-packages (3.2.1)\n",
            "Requirement already satisfied, skipping upgrade: numpy>=1.11 in /usr/local/lib/python3.6/dist-packages (from matplotlib) (1.18.2)\n",
            "Requirement already satisfied, skipping upgrade: kiwisolver>=1.0.1 in /usr/local/lib/python3.6/dist-packages (from matplotlib) (1.1.0)\n",
            "Requirement already satisfied, skipping upgrade: pyparsing!=2.0.4,!=2.1.2,!=2.1.6,>=2.0.1 in /usr/local/lib/python3.6/dist-packages (from matplotlib) (2.4.6)\n",
            "Requirement already satisfied, skipping upgrade: python-dateutil>=2.1 in /usr/local/lib/python3.6/dist-packages (from matplotlib) (2.8.1)\n",
            "Requirement already satisfied, skipping upgrade: cycler>=0.10 in /usr/local/lib/python3.6/dist-packages (from matplotlib) (0.10.0)\n",
            "Requirement already satisfied, skipping upgrade: setuptools in /usr/local/lib/python3.6/dist-packages (from kiwisolver>=1.0.1->matplotlib) (46.0.0)\n",
            "Requirement already satisfied, skipping upgrade: six>=1.5 in /usr/local/lib/python3.6/dist-packages (from python-dateutil>=2.1->matplotlib) (1.12.0)\n",
            "Requirement already up-to-date: numpy in /usr/local/lib/python3.6/dist-packages (1.18.2)\n",
            "Requirement already up-to-date: tensorflow in /usr/local/lib/python3.6/dist-packages (2.2.0rc1)\n",
            "Requirement already satisfied, skipping upgrade: tensorboard<2.2.0,>=2.1.0 in /usr/local/lib/python3.6/dist-packages (from tensorflow) (2.1.1)\n",
            "Requirement already satisfied, skipping upgrade: keras-preprocessing>=1.1.0 in /usr/local/lib/python3.6/dist-packages (from tensorflow) (1.1.0)\n",
            "Requirement already satisfied, skipping upgrade: numpy<2.0,>=1.16.0 in /usr/local/lib/python3.6/dist-packages (from tensorflow) (1.18.2)\n",
            "Requirement already satisfied, skipping upgrade: termcolor>=1.1.0 in /usr/local/lib/python3.6/dist-packages (from tensorflow) (1.1.0)\n",
            "Requirement already satisfied, skipping upgrade: wheel>=0.26; python_version >= \"3\" in /usr/local/lib/python3.6/dist-packages (from tensorflow) (0.34.2)\n",
            "Requirement already satisfied, skipping upgrade: wrapt>=1.11.1 in /usr/local/lib/python3.6/dist-packages (from tensorflow) (1.12.1)\n",
            "Requirement already satisfied, skipping upgrade: grpcio>=1.8.6 in /usr/local/lib/python3.6/dist-packages (from tensorflow) (1.27.2)\n",
            "Requirement already satisfied, skipping upgrade: tensorflow-estimator<2.3.0,>=2.2.0rc0 in /usr/local/lib/python3.6/dist-packages (from tensorflow) (2.2.0rc0)\n",
            "Requirement already satisfied, skipping upgrade: six>=1.12.0 in /usr/local/lib/python3.6/dist-packages (from tensorflow) (1.12.0)\n",
            "Requirement already satisfied, skipping upgrade: gast==0.3.3 in /usr/local/lib/python3.6/dist-packages (from tensorflow) (0.3.3)\n",
            "Requirement already satisfied, skipping upgrade: opt-einsum>=2.3.2 in /usr/local/lib/python3.6/dist-packages (from tensorflow) (3.2.0)\n",
            "Requirement already satisfied, skipping upgrade: protobuf>=3.8.0 in /usr/local/lib/python3.6/dist-packages (from tensorflow) (3.10.0)\n",
            "Requirement already satisfied, skipping upgrade: h5py<2.11.0,>=2.10.0 in /usr/local/lib/python3.6/dist-packages (from tensorflow) (2.10.0)\n",
            "Requirement already satisfied, skipping upgrade: absl-py>=0.7.0 in /usr/local/lib/python3.6/dist-packages (from tensorflow) (0.9.0)\n",
            "Requirement already satisfied, skipping upgrade: astunparse==1.6.3 in /usr/local/lib/python3.6/dist-packages (from tensorflow) (1.6.3)\n",
            "Requirement already satisfied, skipping upgrade: scipy==1.4.1; python_version >= \"3\" in /usr/local/lib/python3.6/dist-packages (from tensorflow) (1.4.1)\n",
            "Requirement already satisfied, skipping upgrade: google-pasta>=0.1.8 in /usr/local/lib/python3.6/dist-packages (from tensorflow) (0.2.0)\n",
            "Requirement already satisfied, skipping upgrade: setuptools>=41.0.0 in /usr/local/lib/python3.6/dist-packages (from tensorboard<2.2.0,>=2.1.0->tensorflow) (46.0.0)\n",
            "Requirement already satisfied, skipping upgrade: google-auth-oauthlib<0.5,>=0.4.1 in /usr/local/lib/python3.6/dist-packages (from tensorboard<2.2.0,>=2.1.0->tensorflow) (0.4.1)\n",
            "Requirement already satisfied, skipping upgrade: requests<3,>=2.21.0 in /usr/local/lib/python3.6/dist-packages (from tensorboard<2.2.0,>=2.1.0->tensorflow) (2.21.0)\n",
            "Requirement already satisfied, skipping upgrade: werkzeug>=0.11.15 in /usr/local/lib/python3.6/dist-packages (from tensorboard<2.2.0,>=2.1.0->tensorflow) (1.0.0)\n",
            "Requirement already satisfied, skipping upgrade: google-auth<2,>=1.6.3 in /usr/local/lib/python3.6/dist-packages (from tensorboard<2.2.0,>=2.1.0->tensorflow) (1.7.2)\n",
            "Requirement already satisfied, skipping upgrade: markdown>=2.6.8 in /usr/local/lib/python3.6/dist-packages (from tensorboard<2.2.0,>=2.1.0->tensorflow) (3.2.1)\n",
            "Requirement already satisfied, skipping upgrade: requests-oauthlib>=0.7.0 in /usr/local/lib/python3.6/dist-packages (from google-auth-oauthlib<0.5,>=0.4.1->tensorboard<2.2.0,>=2.1.0->tensorflow) (1.3.0)\n",
            "Requirement already satisfied, skipping upgrade: urllib3<1.25,>=1.21.1 in /usr/local/lib/python3.6/dist-packages (from requests<3,>=2.21.0->tensorboard<2.2.0,>=2.1.0->tensorflow) (1.24.3)\n",
            "Requirement already satisfied, skipping upgrade: chardet<3.1.0,>=3.0.2 in /usr/local/lib/python3.6/dist-packages (from requests<3,>=2.21.0->tensorboard<2.2.0,>=2.1.0->tensorflow) (3.0.4)\n",
            "Requirement already satisfied, skipping upgrade: idna<2.9,>=2.5 in /usr/local/lib/python3.6/dist-packages (from requests<3,>=2.21.0->tensorboard<2.2.0,>=2.1.0->tensorflow) (2.8)\n",
            "Requirement already satisfied, skipping upgrade: certifi>=2017.4.17 in /usr/local/lib/python3.6/dist-packages (from requests<3,>=2.21.0->tensorboard<2.2.0,>=2.1.0->tensorflow) (2019.11.28)\n",
            "Requirement already satisfied, skipping upgrade: cachetools<3.2,>=2.0.0 in /usr/local/lib/python3.6/dist-packages (from google-auth<2,>=1.6.3->tensorboard<2.2.0,>=2.1.0->tensorflow) (3.1.1)\n",
            "Requirement already satisfied, skipping upgrade: rsa<4.1,>=3.1.4 in /usr/local/lib/python3.6/dist-packages (from google-auth<2,>=1.6.3->tensorboard<2.2.0,>=2.1.0->tensorflow) (4.0)\n",
            "Requirement already satisfied, skipping upgrade: pyasn1-modules>=0.2.1 in /usr/local/lib/python3.6/dist-packages (from google-auth<2,>=1.6.3->tensorboard<2.2.0,>=2.1.0->tensorflow) (0.2.8)\n",
            "Requirement already satisfied, skipping upgrade: oauthlib>=3.0.0 in /usr/local/lib/python3.6/dist-packages (from requests-oauthlib>=0.7.0->google-auth-oauthlib<0.5,>=0.4.1->tensorboard<2.2.0,>=2.1.0->tensorflow) (3.1.0)\n",
            "Requirement already satisfied, skipping upgrade: pyasn1>=0.1.3 in /usr/local/lib/python3.6/dist-packages (from rsa<4.1,>=3.1.4->google-auth<2,>=1.6.3->tensorboard<2.2.0,>=2.1.0->tensorflow) (0.4.8)\n",
            "Requirement already up-to-date: pandas in /usr/local/lib/python3.6/dist-packages (1.0.3)\n",
            "Requirement already satisfied, skipping upgrade: numpy>=1.13.3 in /usr/local/lib/python3.6/dist-packages (from pandas) (1.18.2)\n",
            "Requirement already satisfied, skipping upgrade: pytz>=2017.2 in /usr/local/lib/python3.6/dist-packages (from pandas) (2018.9)\n",
            "Requirement already satisfied, skipping upgrade: python-dateutil>=2.6.1 in /usr/local/lib/python3.6/dist-packages (from pandas) (2.8.1)\n",
            "Requirement already satisfied, skipping upgrade: six>=1.5 in /usr/local/lib/python3.6/dist-packages (from python-dateutil>=2.6.1->pandas) (1.12.0)\n",
            "Requirement already up-to-date: pactools in /usr/local/lib/python3.6/dist-packages (0.2.0b0)\n"
          ],
          "name": "stdout"
        }
      ]
    },
    {
      "cell_type": "code",
      "metadata": {
        "id": "B8jjrH3-9622",
        "colab_type": "code",
        "colab": {
          "base_uri": "https://localhost:8080/",
          "height": 34
        },
        "outputId": "65140a41-0551-49f2-82c9-238cda9df802"
      },
      "source": [
        "#ΧΡΗΣΙΜΕΣ ΒΙΒΛΙΟΘΉΚΕΣ \n",
        "import numpy as np\n",
        "import matplotlib.pyplot as plt\n",
        "import pandas as pd\n",
        "from matplotlib.ticker import MaxNLocator\n",
        "\n",
        "#TESNORFOW\n",
        "import tensorflow as tf\n",
        "\n",
        "#KERAS LIBRARIES\n",
        "from tensorflow import keras\n",
        "from tensorflow.keras.datasets import imdb\n",
        "from keras.preprocessing.text import Tokenizer\n",
        "from keras.models import Sequential\n",
        "from keras.layers import Dense, Dropout , Flatten\n",
        "from keras.regularizers import l1, l2, l1_l2\n",
        "from keras.callbacks import EarlyStopping, ModelCheckpoint\n",
        "from keras import backend\n",
        "\n",
        "#CROSS VALIDATION\n",
        "from sklearn.model_selection import StratifiedKFold\n",
        "from sklearn.model_selection import GridSearchCV\n",
        "from pactools.grid_search import GridSearchCVProgressBar\n",
        "\n",
        "#WRAPPERS NEEDED FOR GRIDSEARCH\n",
        "from keras.wrappers.scikit_learn import KerasClassifier\n",
        "from keras.wrappers.scikit_learn import KerasRegressor"
      ],
      "execution_count": 2,
      "outputs": [
        {
          "output_type": "stream",
          "text": [
            "Using TensorFlow backend.\n"
          ],
          "name": "stderr"
        }
      ]
    },
    {
      "cell_type": "markdown",
      "metadata": {
        "id": "dxue1O5-7fs8",
        "colab_type": "text"
      },
      "source": [
        "#EXAMPLE1"
      ]
    },
    {
      "cell_type": "code",
      "metadata": {
        "id": "4DmIEYkh963A",
        "colab_type": "code",
        "outputId": "207afa3c-039f-4c12-dca0-eb23da03efe1",
        "colab": {
          "base_uri": "https://localhost:8080/",
          "height": 153
        }
      },
      "source": [
        "fashion_mnist = keras.datasets.fashion_mnist  # load dataset\n",
        "\n",
        "(train_images, train_labels), (test_images, test_labels) = fashion_mnist.load_data()\n",
        "\n"
      ],
      "execution_count": 0,
      "outputs": [
        {
          "output_type": "stream",
          "text": [
            "Downloading data from https://storage.googleapis.com/tensorflow/tf-keras-datasets/train-labels-idx1-ubyte.gz\n",
            "32768/29515 [=================================] - 0s 0us/step\n",
            "Downloading data from https://storage.googleapis.com/tensorflow/tf-keras-datasets/train-images-idx3-ubyte.gz\n",
            "26427392/26421880 [==============================] - 0s 0us/step\n",
            "Downloading data from https://storage.googleapis.com/tensorflow/tf-keras-datasets/t10k-labels-idx1-ubyte.gz\n",
            "8192/5148 [===============================================] - 0s 0us/step\n",
            "Downloading data from https://storage.googleapis.com/tensorflow/tf-keras-datasets/t10k-images-idx3-ubyte.gz\n",
            "4423680/4422102 [==============================] - 0s 0us/step\n"
          ],
          "name": "stdout"
        }
      ]
    },
    {
      "cell_type": "code",
      "metadata": {
        "id": "1DI9znL6963G",
        "colab_type": "code",
        "outputId": "d0e38a4b-68cc-481e-9530-b38f470079cb",
        "colab": {
          "base_uri": "https://localhost:8080/",
          "height": 85
        }
      },
      "source": [
        "print(\"train_images SHAPE :\", train_images.shape)\n",
        "print(\"train_labels SHAPE :\", train_labels.shape)\n",
        "print(\"test_images SHAPE :\", test_images.shape)\n",
        "print(\"test_labels SHAPE :\", test_labels.shape)"
      ],
      "execution_count": 0,
      "outputs": [
        {
          "output_type": "stream",
          "text": [
            "train_images SHAPE : (60000, 28, 28)\n",
            "train_labels SHAPE : (60000,)\n",
            "test_images SHAPE : (10000, 28, 28)\n",
            "test_labels SHAPE : (10000,)\n"
          ],
          "name": "stdout"
        }
      ]
    },
    {
      "cell_type": "code",
      "metadata": {
        "id": "rnEMxdgf963N",
        "colab_type": "code",
        "outputId": "88d2d425-3d0a-483c-e200-64e5e39079af",
        "colab": {
          "base_uri": "https://localhost:8080/",
          "height": 34
        }
      },
      "source": [
        "train_labels1=pd.DataFrame(data=train_labels,columns=['target'])\n",
        "np.sort(train_labels1.target.unique())"
      ],
      "execution_count": 0,
      "outputs": [
        {
          "output_type": "execute_result",
          "data": {
            "text/plain": [
              "array([0, 1, 2, 3, 4, 5, 6, 7, 8, 9], dtype=uint8)"
            ]
          },
          "metadata": {
            "tags": []
          },
          "execution_count": 5
        }
      ]
    },
    {
      "cell_type": "code",
      "metadata": {
        "id": "dIpcwEPP963U",
        "colab_type": "code",
        "colab": {}
      },
      "source": [
        "class_names = ['T-shirt/top', 'Trouser', 'Pullover', 'Dress', 'Coat',\n",
        "               'Sandal', 'Shirt', 'Sneaker', 'Bag', 'Ankle boot']"
      ],
      "execution_count": 0,
      "outputs": []
    },
    {
      "cell_type": "code",
      "metadata": {
        "id": "BgHt9mSr963h",
        "colab_type": "code",
        "colab": {}
      },
      "source": [
        "# Smaller values will make easier for our model to process\n",
        "train_images = train_images / 255.0\n",
        "test_images = test_images / 255.0\n",
        "batch_size=5000"
      ],
      "execution_count": 0,
      "outputs": []
    },
    {
      "cell_type": "code",
      "metadata": {
        "id": "V_OGzDM6963p",
        "colab_type": "code",
        "colab": {}
      },
      "source": [
        "def model128(): #MODEL WITH 1 HIDDEN LAYER , 128 NEURONS\n",
        "    model = Sequential([\n",
        "        Flatten(input_shape=(28, 28)),  # input layer (1)\n",
        "        Dense(128, activation='relu'),  # hidden layer (2)\n",
        "        Dense(10, activation='softmax') # output layer (3)\n",
        "    ])\n",
        "    model.compile(optimizer='adam',\n",
        "                  loss='sparse_categorical_crossentropy',\n",
        "                  metrics=['accuracy'])\n",
        "    return model\n",
        "\n",
        "def model33(): #MODEL WITH 1 HIDDEN LAYER, 33 NEURONS\n",
        "    model = Sequential([\n",
        "        Flatten(input_shape=(28, 28)),  # input layer (1)\n",
        "        Dense(33, activation='relu'),  # hidden layer (2)\n",
        "        Dense(10, activation='softmax') # output layer (3)\n",
        "    ])\n",
        "    model.compile(optimizer='adam',\n",
        "                  loss='sparse_categorical_crossentropy',\n",
        "                  metrics=['accuracy'])\n",
        "    return model\n",
        "\n",
        "def model340(): #MODEL WITH 1 HIDDEN LAYER, 340 NEURONS\n",
        "    model = Sequential([\n",
        "        Flatten(input_shape=(28, 28)),  # input layer (1)\n",
        "        Dense(340, activation='relu'),  # hidden layer (2)\n",
        "        Dense(10, activation='softmax') # output layer (3)\n",
        "    ])\n",
        "    model.compile(optimizer='adam',\n",
        "                  loss='sparse_categorical_crossentropy',\n",
        "                  metrics=['accuracy'])\n",
        "    return model\n",
        "\n",
        "def model523(): # MODEL WITH 1 HIDDEN LAYER , 523 NEURONS\n",
        "    model = Sequential([\n",
        "        Flatten(input_shape=(28, 28)),  # input layer (1)\n",
        "        Dense(523, activation='relu'),  # hidden layer (2)\n",
        "        Dense(10, activation='softmax') # output layer (3)\n",
        "    ])\n",
        "    model.compile(optimizer='adam',\n",
        "                  loss='sparse_categorical_crossentropy',\n",
        "                  metrics=['accuracy'])\n",
        "    return model"
      ],
      "execution_count": 0,
      "outputs": []
    },
    {
      "cell_type": "code",
      "metadata": {
        "id": "SdjBp5NQ963x",
        "colab_type": "code",
        "colab": {}
      },
      "source": [
        "def compare(train_images,train_labels,epochs,test_images,test_labels):\n",
        "    model1 = model128()\n",
        "    model2 = model33()\n",
        "    model3 = model340()\n",
        "    model4 = model523()\n",
        "    \n",
        "    model1.fit(train_images, train_labels, epochs=epochs,verbose=0,batch_size=batch_size)\n",
        "    model2.fit(train_images, train_labels, epochs=epochs,verbose=0,batch_size=batch_size)\n",
        "    model3.fit(train_images, train_labels, epochs=epochs,verbose=0,batch_size=batch_size)\n",
        "    model4.fit(train_images, train_labels, epochs=epochs,verbose=0,batch_size=batch_size)\n",
        "    \n",
        "    test_loss1, test_acc1 = model1.evaluate(test_images,  test_labels, verbose=2)\n",
        "    test_loss2, test_acc2 = model2.evaluate(test_images,  test_labels, verbose=2)\n",
        "    test_loss3, test_acc3 = model3.evaluate(test_images,  test_labels, verbose=2)\n",
        "    test_loss4, test_acc4 = model4.evaluate(test_images,  test_labels, verbose=2)\n",
        "    \n",
        "    print('Test accuracy for 128 neurons and ',epochs,' epochs:', test_acc1)\n",
        "    print('Test accuracy for 33 neurons and ',epochs,' epochs:', test_acc2)\n",
        "    print('Test accuracy for 340 neurons and ',epochs,' epochs:', test_acc3)\n",
        "    print('Test accuracy for 523 neurons and ',epochs,' epochs:', test_acc4)"
      ],
      "execution_count": 0,
      "outputs": []
    },
    {
      "cell_type": "code",
      "metadata": {
        "id": "2IRTjnAG9633",
        "colab_type": "code",
        "outputId": "99849136-2aab-43be-df2d-411f9e678ce1",
        "colab": {
          "base_uri": "https://localhost:8080/",
          "height": 85
        }
      },
      "source": [
        "compare(train_images,train_labels,50,test_images,test_labels)"
      ],
      "execution_count": 0,
      "outputs": [
        {
          "output_type": "stream",
          "text": [
            "Test accuracy for 128 neurons and  50  epochs: 0.8716999888420105\n",
            "Test accuracy for 33 neurons and  50  epochs: 0.8555999994277954\n",
            "Test accuracy for 340 neurons and  50  epochs: 0.8792999982833862\n",
            "Test accuracy for 523 neurons and  50  epochs: 0.8809000253677368\n"
          ],
          "name": "stdout"
        }
      ]
    },
    {
      "cell_type": "markdown",
      "metadata": {
        "id": "HtBw98E3oj8T",
        "colab_type": "text"
      },
      "source": [
        "#EXAMPLE2"
      ]
    },
    {
      "cell_type": "code",
      "metadata": {
        "id": "ElG8jgTv964G",
        "colab_type": "code",
        "colab": {}
      },
      "source": [
        "number_of_features=1000\n",
        "epochs=50\n",
        "batch_size=1000"
      ],
      "execution_count": 0,
      "outputs": []
    },
    {
      "cell_type": "code",
      "metadata": {
        "id": "GBHhG_vr964M",
        "colab_type": "code",
        "outputId": "dc5282f0-2683-4db9-8b65-1dd6a1ccc0ae",
        "colab": {
          "base_uri": "https://localhost:8080/",
          "height": 170
        }
      },
      "source": [
        "(X_train_data, y_train), (X_test_data, y_test) = imdb.load_data(\n",
        "    num_words=number_of_features)\n",
        "X1=np.concatenate((X_train_data, X_test_data), axis=0)\n",
        "Y=np.concatenate((y_train, y_test), axis=0)\n",
        "print('Σύνολο Εκπαίδευσης')\n",
        "print('------------------')\n",
        "print('Μέγεθος Δεδομένων: {}'.format(X_train_data.shape))\n",
        "print('Μέγεθος Ετικετών: {}'.format(y_train.shape))\n",
        "print('')\n",
        "print('Σύνολο Ελέγχου')\n",
        "print('------------------')\n",
        "print('Μέγεθος Δεδομένων: {}'.format(X_test_data.shape))\n",
        "print('Μέγεθος Ετικετών: {}'.format(y_test.shape))\n"
      ],
      "execution_count": 4,
      "outputs": [
        {
          "output_type": "stream",
          "text": [
            "Σύνολο Εκπαίδευσης\n",
            "------------------\n",
            "Μέγεθος Δεδομένων: (25000,)\n",
            "Μέγεθος Ετικετών: (25000,)\n",
            "\n",
            "Σύνολο Ελέγχου\n",
            "------------------\n",
            "Μέγεθος Δεδομένων: (25000,)\n",
            "Μέγεθος Ετικετών: (25000,)\n"
          ],
          "name": "stdout"
        }
      ]
    },
    {
      "cell_type": "code",
      "metadata": {
        "id": "sGY9Vp_E964X",
        "colab_type": "code",
        "outputId": "8c608373-ef07-4443-bfe0-45d4855e7e38",
        "colab": {
          "base_uri": "https://localhost:8080/",
          "height": 190
        }
      },
      "source": [
        "print('Σύνολο Εκπαίδευσης')\n",
        "print('------------------')\n",
        "print('Δεδομένο: {}'.format(X_train_data[0]))\n",
        "print('Ετικέτα: {}'.format(y_train[0]))\n",
        "print('')\n",
        "print('Σύνολο Ελέγχου')\n",
        "print('------------------')\n",
        "print('Δεδομένο: {}'.format(X_test_data[0]))\n",
        "print('Ετικέτα: {}'.format(y_test[0]))"
      ],
      "execution_count": 0,
      "outputs": [
        {
          "output_type": "stream",
          "text": [
            "Σύνολο Εκπαίδευσης\n",
            "------------------\n",
            "Δεδομένο: [1, 14, 22, 16, 43, 530, 973, 2, 2, 65, 458, 2, 66, 2, 4, 173, 36, 256, 5, 25, 100, 43, 838, 112, 50, 670, 2, 9, 35, 480, 284, 5, 150, 4, 172, 112, 167, 2, 336, 385, 39, 4, 172, 2, 2, 17, 546, 38, 13, 447, 4, 192, 50, 16, 6, 147, 2, 19, 14, 22, 4, 2, 2, 469, 4, 22, 71, 87, 12, 16, 43, 530, 38, 76, 15, 13, 2, 4, 22, 17, 515, 17, 12, 16, 626, 18, 2, 5, 62, 386, 12, 8, 316, 8, 106, 5, 4, 2, 2, 16, 480, 66, 2, 33, 4, 130, 12, 16, 38, 619, 5, 25, 124, 51, 36, 135, 48, 25, 2, 33, 6, 22, 12, 215, 28, 77, 52, 5, 14, 407, 16, 82, 2, 8, 4, 107, 117, 2, 15, 256, 4, 2, 7, 2, 5, 723, 36, 71, 43, 530, 476, 26, 400, 317, 46, 7, 4, 2, 2, 13, 104, 88, 4, 381, 15, 297, 98, 32, 2, 56, 26, 141, 6, 194, 2, 18, 4, 226, 22, 21, 134, 476, 26, 480, 5, 144, 30, 2, 18, 51, 36, 28, 224, 92, 25, 104, 4, 226, 65, 16, 38, 2, 88, 12, 16, 283, 5, 16, 2, 113, 103, 32, 15, 16, 2, 19, 178, 32]\n",
            "Ετικέτα: 1\n",
            "\n",
            "Σύνολο Ελέγχου\n",
            "------------------\n",
            "Δεδομένο: [1, 591, 202, 14, 31, 6, 717, 10, 10, 2, 2, 5, 4, 360, 7, 4, 177, 2, 394, 354, 4, 123, 9, 2, 2, 2, 10, 10, 13, 92, 124, 89, 488, 2, 100, 28, 2, 14, 31, 23, 27, 2, 29, 220, 468, 8, 124, 14, 286, 170, 8, 157, 46, 5, 27, 239, 16, 179, 2, 38, 32, 25, 2, 451, 202, 14, 6, 717]\n",
            "Ετικέτα: 0\n"
          ],
          "name": "stdout"
        }
      ]
    },
    {
      "cell_type": "code",
      "metadata": {
        "id": "BFiRDOI9964c",
        "colab_type": "code",
        "colab": {}
      },
      "source": [
        "tokenizer = Tokenizer(num_words=number_of_features)\n",
        "\n",
        "X_train_features = tokenizer.sequences_to_matrix(X_train_data, mode='count')\n",
        "X_test_features = tokenizer.sequences_to_matrix(X_test_data, mode='count')\n",
        "X = tokenizer.sequences_to_matrix(X1, mode='count')\n",
        "\n",
        "Y_train_soft = backend.one_hot(y_train,2).numpy()\n",
        "Y_test_soft = backend.one_hot(y_test,2).numpy()\n"
      ],
      "execution_count": 0,
      "outputs": []
    },
    {
      "cell_type": "code",
      "metadata": {
        "id": "D2Nr2wcy964h",
        "colab_type": "code",
        "outputId": "d03fbfc2-c617-4cd9-d88e-7bcfcf3fd4f0",
        "colab": {
          "base_uri": "https://localhost:8080/",
          "height": 51
        }
      },
      "source": [
        "print('Μέγεθος Δεδομένων Εκπαίδευσης: {}'.format(X_train_features.shape))\n",
        "print('Μέγεθος Δεδομένων Ελέγχου: {}'.format(X_test_features.shape))\n"
      ],
      "execution_count": 0,
      "outputs": [
        {
          "output_type": "stream",
          "text": [
            "Μέγεθος Δεδομένων Εκπαίδευσης: (25000, 1000)\n",
            "Μέγεθος Δεδομένων Ελέγχου: (25000, 1000)\n"
          ],
          "name": "stdout"
        }
      ]
    },
    {
      "cell_type": "code",
      "metadata": {
        "id": "hN5cQDsJ964o",
        "colab_type": "code",
        "outputId": "ec249501-1e41-4abb-d049-177f016739c4",
        "colab": {
          "base_uri": "https://localhost:8080/",
          "height": 1000
        }
      },
      "source": [
        "print('Πρώτο δεδομένο εκπαίδευσης:\\n {}'.format(X_train_features[0]))\n",
        "print('\\nΠρώτο δεδομένο ελέγχου:\\n {}'.format(X_test_features[0]))\n",
        "print('\\nΠρώτο αποτέλεσμα εκπαιδευσης:\\n {}'.format(Y_train_soft[0]))"
      ],
      "execution_count": 0,
      "outputs": [
        {
          "output_type": "stream",
          "text": [
            "Πρώτο δεδομένο εκπαίδευσης:\n",
            " [ 0.  1. 29.  0. 15.  9.  3.  2.  3.  1.  0.  0.  6.  3.  3.  4. 11.  3.\n",
            "  3.  2.  0.  1.  6.  0.  0.  4.  3.  0.  2.  0.  1.  0.  3.  2.  0.  1.\n",
            "  4.  0.  4.  1.  0.  0.  0.  4.  0.  0.  1.  0.  1.  0.  2.  2.  1.  0.\n",
            "  0.  0.  1.  0.  0.  0.  0.  0.  1.  0.  0.  2.  2.  0.  0.  0.  0.  2.\n",
            "  0.  0.  0.  0.  1.  1.  0.  0.  0.  0.  1.  0.  0.  0.  0.  1.  2.  0.\n",
            "  0.  0.  1.  0.  0.  0.  0.  0.  1.  0.  1.  0.  0.  1.  2.  0.  1.  1.\n",
            "  0.  0.  0.  0.  2.  1.  0.  0.  0.  1.  0.  0.  0.  0.  0.  0.  1.  0.\n",
            "  0.  0.  0.  0.  1.  0.  0.  0.  1.  1.  0.  0.  0.  0.  0.  1.  0.  0.\n",
            "  1.  0.  0.  1.  0.  0.  1.  0.  0.  0.  0.  0.  0.  0.  0.  0.  0.  0.\n",
            "  0.  0.  0.  0.  0.  1.  0.  0.  0.  0.  2.  1.  0.  0.  0.  0.  1.  0.\n",
            "  0.  0.  0.  0.  0.  0.  0.  0.  0.  0.  0.  0.  1.  0.  1.  0.  0.  0.\n",
            "  0.  0.  0.  0.  0.  0.  0.  0.  0.  0.  0.  0.  0.  0.  0.  0.  0.  1.\n",
            "  0.  0.  0.  0.  0.  0.  0.  0.  1.  0.  2.  0.  0.  0.  0.  0.  0.  0.\n",
            "  0.  0.  0.  0.  0.  0.  0.  0.  0.  0.  0.  0.  0.  0.  0.  0.  0.  0.\n",
            "  0.  0.  0.  0.  2.  0.  0.  0.  0.  0.  0.  0.  0.  0.  0.  0.  0.  0.\n",
            "  0.  0.  0.  0.  0.  0.  0.  0.  0.  0.  0.  0.  0.  1.  1.  0.  0.  0.\n",
            "  0.  0.  0.  0.  0.  0.  0.  0.  0.  1.  0.  0.  0.  0.  0.  0.  0.  0.\n",
            "  0.  0.  0.  0.  0.  0.  0.  0.  0.  0.  1.  1.  0.  0.  0.  0.  0.  0.\n",
            "  0.  0.  0.  0.  0.  0.  0.  0.  0.  0.  0.  0.  1.  0.  0.  0.  0.  0.\n",
            "  0.  0.  0.  0.  0.  0.  0.  0.  0.  0.  0.  0.  0.  0.  0.  0.  0.  0.\n",
            "  0.  0.  0.  0.  0.  0.  0.  0.  0.  0.  0.  0.  0.  0.  0.  0.  0.  0.\n",
            "  0.  0.  0.  1.  0.  0.  0.  1.  1.  0.  0.  0.  0.  0.  0.  0.  0.  0.\n",
            "  0.  0.  0.  0.  1.  0.  0.  0.  0.  0.  0.  1.  0.  0.  0.  0.  0.  0.\n",
            "  0.  0.  0.  0.  0.  0.  0.  0.  0.  0.  0.  0.  0.  0.  0.  0.  0.  0.\n",
            "  0.  0.  0.  0.  0.  0.  0.  0.  0.  0.  0.  0.  0.  0.  0.  1.  0.  0.\n",
            "  0.  0.  0.  0.  0.  0.  0.  0.  1.  0.  0.  0.  0.  0.  0.  0.  0.  0.\n",
            "  0.  1.  0.  0.  0.  0.  0.  0.  2.  0.  0.  0.  3.  0.  0.  0.  0.  0.\n",
            "  0.  0.  0.  0.  0.  0.  0.  0.  0.  0.  0.  0.  0.  0.  0.  0.  0.  0.\n",
            "  0.  0.  0.  0.  0.  0.  0.  0.  0.  0.  0.  1.  0.  0.  0.  0.  0.  0.\n",
            "  0.  0.  0.  0.  0.  0.  0.  0.  3.  0.  0.  0.  0.  0.  0.  0.  0.  0.\n",
            "  0.  0.  0.  0.  0.  0.  1.  0.  0.  0.  0.  0.  0.  0.  0.  0.  0.  0.\n",
            "  0.  0.  0.  0.  0.  0.  0.  0.  0.  0.  0.  0.  0.  0.  0.  0.  0.  0.\n",
            "  0.  0.  0.  0.  0.  0.  0.  0.  0.  0.  0.  0.  0.  0.  0.  0.  0.  0.\n",
            "  0.  0.  0.  0.  0.  0.  0.  0.  0.  0.  0.  0.  0.  0.  0.  0.  0.  0.\n",
            "  0.  0.  0.  0.  0.  0.  0.  1.  0.  0.  0.  0.  0.  0.  1.  0.  0.  0.\n",
            "  0.  0.  0.  0.  0.  0.  0.  0.  0.  0.  0.  0.  0.  0.  0.  0.  0.  0.\n",
            "  0.  0.  0.  0.  0.  0.  0.  0.  0.  0.  0.  0.  0.  0.  0.  0.  0.  0.\n",
            "  0.  0.  0.  0.  1.  0.  0.  0.  0.  0.  0.  0.  0.  0.  0.  0.  0.  0.\n",
            "  0.  0.  0.  0.  0.  0.  0.  0.  0.  0.  0.  0.  0.  0.  0.  0.  0.  0.\n",
            "  0.  0.  0.  0.  0.  0.  0.  0.  0.  0.  0.  0.  0.  0.  0.  0.  0.  0.\n",
            "  0.  0.  0.  1.  0.  0.  0.  0.  0.  0.  0.  0.  0.  0.  0.  0.  0.  0.\n",
            "  0.  0.  0.  0.  0.  0.  0.  0.  0.  0.  0.  0.  0.  0.  0.  0.  0.  0.\n",
            "  0.  0.  0.  0.  0.  0.  0.  0.  0.  0.  0.  0.  0.  0.  0.  0.  0.  0.\n",
            "  0.  0.  0.  0.  0.  0.  0.  0.  0.  0.  0.  0.  0.  0.  0.  0.  0.  0.\n",
            "  0.  0.  0.  0.  0.  0.  0.  0.  0.  0.  0.  0.  0.  0.  0.  0.  0.  0.\n",
            "  0.  0.  0.  0.  0.  0.  0.  0.  0.  0.  0.  0.  0.  0.  0.  0.  0.  0.\n",
            "  0.  0.  0.  0.  0.  0.  0.  0.  0.  0.  1.  0.  0.  0.  0.  0.  0.  0.\n",
            "  0.  0.  0.  0.  0.  0.  0.  0.  0.  0.  0.  0.  0.  0.  0.  0.  0.  0.\n",
            "  0.  0.  0.  0.  0.  0.  0.  0.  0.  0.  0.  0.  0.  0.  0.  0.  0.  0.\n",
            "  0.  0.  0.  0.  0.  0.  0.  0.  0.  0.  0.  0.  0.  0.  0.  0.  0.  0.\n",
            "  0.  0.  0.  0.  0.  0.  0.  0.  0.  0.  0.  0.  0.  0.  0.  0.  0.  0.\n",
            "  0.  0.  0.  0.  0.  0.  0.  0.  0.  0.  0.  0.  0.  0.  0.  0.  0.  0.\n",
            "  0.  0.  0.  0.  0.  0.  0.  0.  0.  0.  0.  0.  0.  0.  0.  0.  0.  0.\n",
            "  0.  0.  0.  0.  0.  0.  0.  0.  0.  0.  0.  0.  0.  0.  0.  0.  0.  0.\n",
            "  0.  1.  0.  0.  0.  0.  0.  0.  0.  0.  0.  0.  0.  0.  0.  0.  0.  0.\n",
            "  0.  0.  0.  0.  0.  0.  0.  0.  0.  0.]\n",
            "\n",
            "Πρώτο δεδομένο ελέγχου:\n",
            " [ 0.  1. 11.  0.  3.  2.  2.  1.  2.  1.  4.  0.  0.  1.  4.  0.  1.  0.\n",
            "  0.  0.  0.  0.  0.  1.  0.  1.  0.  2.  1.  1.  0.  2.  1.  0.  0.  0.\n",
            "  0.  0.  1.  0.  0.  0.  0.  0.  0.  0.  1.  0.  0.  0.  0.  0.  0.  0.\n",
            "  0.  0.  0.  0.  0.  0.  0.  0.  0.  0.  0.  0.  0.  0.  0.  0.  0.  0.\n",
            "  0.  0.  0.  0.  0.  0.  0.  0.  0.  0.  0.  0.  0.  0.  0.  0.  0.  1.\n",
            "  0.  0.  1.  0.  0.  0.  0.  0.  0.  0.  1.  0.  0.  0.  0.  0.  0.  0.\n",
            "  0.  0.  0.  0.  0.  0.  0.  0.  0.  0.  0.  0.  0.  0.  0.  1.  2.  0.\n",
            "  0.  0.  0.  0.  0.  0.  0.  0.  0.  0.  0.  0.  0.  0.  0.  0.  0.  0.\n",
            "  0.  0.  0.  0.  0.  0.  0.  0.  0.  0.  0.  0.  0.  1.  0.  0.  0.  0.\n",
            "  0.  0.  0.  0.  0.  0.  0.  0.  1.  0.  0.  0.  0.  0.  0.  1.  0.  1.\n",
            "  0.  0.  0.  0.  0.  0.  0.  0.  0.  0.  0.  0.  0.  0.  0.  0.  0.  0.\n",
            "  0.  0.  0.  0.  2.  0.  0.  0.  0.  0.  0.  0.  0.  0.  0.  0.  0.  0.\n",
            "  0.  0.  0.  0.  1.  0.  0.  0.  0.  0.  0.  0.  0.  0.  0.  0.  0.  0.\n",
            "  0.  0.  0.  0.  0.  1.  0.  0.  0.  0.  0.  0.  0.  0.  0.  0.  0.  0.\n",
            "  0.  0.  0.  0.  0.  0.  0.  0.  0.  0.  0.  0.  0.  0.  0.  0.  0.  0.\n",
            "  0.  0.  0.  0.  0.  0.  0.  0.  0.  0.  0.  0.  0.  0.  0.  0.  1.  0.\n",
            "  0.  0.  0.  0.  0.  0.  0.  0.  0.  0.  0.  0.  0.  0.  0.  0.  0.  0.\n",
            "  0.  0.  0.  0.  0.  0.  0.  0.  0.  0.  0.  0.  0.  0.  0.  0.  0.  0.\n",
            "  0.  0.  0.  0.  0.  0.  0.  0.  0.  0.  0.  0.  0.  0.  0.  0.  0.  0.\n",
            "  0.  0.  0.  0.  0.  0.  0.  0.  0.  0.  0.  0.  1.  0.  0.  0.  0.  0.\n",
            "  1.  0.  0.  0.  0.  0.  0.  0.  0.  0.  0.  0.  0.  0.  0.  0.  0.  0.\n",
            "  0.  0.  0.  0.  0.  0.  0.  0.  0.  0.  0.  0.  0.  0.  0.  0.  1.  0.\n",
            "  0.  0.  0.  0.  0.  0.  0.  0.  0.  0.  0.  0.  0.  0.  0.  0.  0.  0.\n",
            "  0.  0.  0.  0.  0.  0.  0.  0.  0.  0.  0.  0.  0.  0.  0.  0.  0.  0.\n",
            "  0.  0.  0.  0.  0.  0.  0.  0.  0.  0.  0.  0.  0.  0.  0.  0.  0.  0.\n",
            "  0.  1.  0.  0.  0.  0.  0.  0.  0.  0.  0.  0.  0.  0.  0.  0.  0.  0.\n",
            "  1.  0.  0.  0.  0.  0.  0.  0.  0.  0.  0.  0.  0.  0.  0.  0.  0.  0.\n",
            "  0.  0.  1.  0.  0.  0.  0.  0.  0.  0.  0.  0.  0.  0.  0.  0.  0.  0.\n",
            "  0.  0.  0.  0.  0.  0.  0.  0.  0.  0.  0.  0.  0.  0.  0.  0.  0.  0.\n",
            "  0.  0.  0.  0.  0.  0.  0.  0.  0.  0.  0.  0.  0.  0.  0.  0.  0.  0.\n",
            "  0.  0.  0.  0.  0.  0.  0.  0.  0.  0.  0.  0.  0.  0.  0.  0.  0.  0.\n",
            "  0.  0.  0.  0.  0.  0.  0.  0.  0.  0.  0.  0.  0.  0.  0.  0.  0.  0.\n",
            "  0.  0.  0.  0.  0.  0.  0.  0.  0.  0.  0.  0.  0.  0.  0.  1.  0.  0.\n",
            "  0.  0.  0.  0.  0.  0.  0.  0.  0.  0.  0.  0.  0.  0.  0.  0.  0.  0.\n",
            "  0.  0.  0.  0.  0.  0.  0.  0.  0.  0.  0.  0.  0.  0.  0.  0.  0.  0.\n",
            "  0.  0.  0.  0.  0.  0.  0.  0.  0.  0.  0.  0.  0.  0.  0.  0.  0.  0.\n",
            "  0.  0.  0.  0.  0.  0.  0.  0.  0.  0.  0.  0.  0.  0.  0.  0.  0.  0.\n",
            "  0.  0.  0.  0.  0.  0.  0.  0.  0.  0.  0.  0.  0.  0.  0.  0.  0.  0.\n",
            "  0.  0.  0.  0.  0.  0.  0.  0.  0.  0.  0.  0.  0.  0.  0.  0.  0.  0.\n",
            "  0.  0.  0.  0.  0.  0.  0.  0.  0.  0.  0.  0.  0.  0.  0.  2.  0.  0.\n",
            "  0.  0.  0.  0.  0.  0.  0.  0.  0.  0.  0.  0.  0.  0.  0.  0.  0.  0.\n",
            "  0.  0.  0.  0.  0.  0.  0.  0.  0.  0.  0.  0.  0.  0.  0.  0.  0.  0.\n",
            "  0.  0.  0.  0.  0.  0.  0.  0.  0.  0.  0.  0.  0.  0.  0.  0.  0.  0.\n",
            "  0.  0.  0.  0.  0.  0.  0.  0.  0.  0.  0.  0.  0.  0.  0.  0.  0.  0.\n",
            "  0.  0.  0.  0.  0.  0.  0.  0.  0.  0.  0.  0.  0.  0.  0.  0.  0.  0.\n",
            "  0.  0.  0.  0.  0.  0.  0.  0.  0.  0.  0.  0.  0.  0.  0.  0.  0.  0.\n",
            "  0.  0.  0.  0.  0.  0.  0.  0.  0.  0.  0.  0.  0.  0.  0.  0.  0.  0.\n",
            "  0.  0.  0.  0.  0.  0.  0.  0.  0.  0.  0.  0.  0.  0.  0.  0.  0.  0.\n",
            "  0.  0.  0.  0.  0.  0.  0.  0.  0.  0.  0.  0.  0.  0.  0.  0.  0.  0.\n",
            "  0.  0.  0.  0.  0.  0.  0.  0.  0.  0.  0.  0.  0.  0.  0.  0.  0.  0.\n",
            "  0.  0.  0.  0.  0.  0.  0.  0.  0.  0.  0.  0.  0.  0.  0.  0.  0.  0.\n",
            "  0.  0.  0.  0.  0.  0.  0.  0.  0.  0.  0.  0.  0.  0.  0.  0.  0.  0.\n",
            "  0.  0.  0.  0.  0.  0.  0.  0.  0.  0.  0.  0.  0.  0.  0.  0.  0.  0.\n",
            "  0.  0.  0.  0.  0.  0.  0.  0.  0.  0.  0.  0.  0.  0.  0.  0.  0.  0.\n",
            "  0.  0.  0.  0.  0.  0.  0.  0.  0.  0.  0.  0.  0.  0.  0.  0.  0.  0.\n",
            "  0.  0.  0.  0.  0.  0.  0.  0.  0.  0.]\n",
            "\n",
            "Πρώτο αποτέλεσμα εκπαιδευσης:\n",
            " [0. 1.]\n"
          ],
          "name": "stdout"
        }
      ]
    },
    {
      "cell_type": "code",
      "metadata": {
        "id": "g5BQdx6h965A",
        "colab_type": "code",
        "colab": {}
      },
      "source": [
        "def pff(h_base,titlos): #Plot For Fitting-Συνάρτηση για να βλέπουμε το capacity δηλαδή το overfitting - underfitting\n",
        "  ax = plt.figure().gca()\n",
        "  ax.plot(h_base.epoch, h_base.history['loss'], h_base.epoch, h_base.history['val_loss'])\n",
        "\n",
        "  ax.xaxis.set_major_locator(MaxNLocator(integer=True))\n",
        "\n",
        "  plt.title(titlos)\n",
        "  plt.ylabel('Αντικειμενική Συνάρτηση')\n",
        "  plt.xlabel('Εποχή')\n",
        "  plt.legend(loc=1, labels=(\"Train Error\", 'Test Error'))\n",
        "  plt.show()"
      ],
      "execution_count": 0,
      "outputs": []
    },
    {
      "cell_type": "code",
      "metadata": {
        "id": "oHjULRVc964u",
        "colab_type": "code",
        "colab": {}
      },
      "source": [
        "def basic(X_train_features, y_train,X_test_features, y_test): #Basic NN with 2 Hidden layers\n",
        "  base = Sequential([\n",
        "      Dense(32, activation='relu', input_shape=(number_of_features,)),\n",
        "      Dense(16, activation='relu'),\n",
        "      Dense(2, activation='softmax')  ##!!!!!!!!!!!! OTAN XRHSIMOPOEIS SOFTMAX PREPEI TA LABEL SOU NA EINAI TOSA OSA KAI TO OUTPUT, AN XREIASTEI KANE ONE HOT!!!!!\n",
        "  ])\n",
        "\n",
        "  base.compile(loss='categorical_crossentropy', optimizer='adadelta', \n",
        "              metrics=['accuracy'])\n",
        "  \n",
        "  '''# GIA TO APLO MONTELO\n",
        "  return base\n",
        "  '''\n",
        "  '''\n",
        "  # GIA EARLY STOPPING \n",
        "  call = early('simple',2)\n",
        "  h_base = base.fit(X_train_features, y_train, epochs=epochs, verbose=0, \n",
        "                    batch_size=batch_size, \n",
        "                    callbacks=call,\n",
        "                    validation_data=(X_test_features, y_test))\n",
        "   \n",
        "  test_loss, test_acc = base.evaluate(X_test_features, y_test, verbose=0)\n",
        "  \n",
        "  print(\"BASIC WITH EARLY STOPPING:\", test_acc)\n",
        "  return h_base\n",
        "  #best_model = load_model('simple')\n",
        "  #return best_model\n",
        "\n",
        "  '''\n",
        "  \n",
        "  #TRAIN SESSION\n",
        "  h_base = base.fit(X_train_features, y_train, epochs=epochs, verbose=0, \n",
        "                    batch_size=batch_size, \n",
        "                    validation_data=(X_test_features, y_test))\n",
        "  \n",
        "  test_loss, test_acc = base.evaluate(X_test_features, y_test, verbose=0)\n",
        "  \n",
        "  print(\"BASIC:\", test_acc)\n",
        "  return h_base\n",
        "\n",
        "\n",
        "\n",
        "\n",
        "\n",
        "\n",
        "def regl1(X_train_features, y_train,X_test_features, y_test1,param): ## NN with 2 hidden layers and L1 regularization\n",
        "    d_l1 = Sequential([\n",
        "        Dense(64, activation='relu',input_shape=(number_of_features,), kernel_regularizer=l1(param)),\n",
        "        Dense(32, activation='relu', kernel_regularizer=l1(param)),\n",
        "        Dense(1, activation='sigmoid')\n",
        "        ])\n",
        "\n",
        "    d_l1.compile(loss='binary_crossentropy', optimizer='rmsprop', \n",
        "                metrics=['accuracy'])\n",
        "\n",
        "    #return d_l1\n",
        "    \n",
        "    #TRAIN SESSION\n",
        "    h_l1 = d_l1.fit(X_train_features, y_train, epochs=epochs, verbose=0, \n",
        "                    batch_size=batch_size, \n",
        "                    validation_data=(X_test_features, y_test))\n",
        "\n",
        "    test_loss, test_acc = d_l1.evaluate(X_test_features, y_test, verbose=0)\n",
        "    \n",
        "    print(\"L1 REGULARIZATION ACCURACY:\", test_acc)\n",
        "    return h_l1\n",
        "    \n",
        "\n",
        "def regl2(X_train_features, y_train,X_test_features, y_test1,param): ## NN with 2 hidden layers and L2 regularization\n",
        "  d_l2 = Sequential([\n",
        "    Dense(units=64, activation='relu', kernel_regularizer=l2(param)),\n",
        "    Dense(units=32, activation='relu', kernel_regularizer=l2(param)),\n",
        "    Dense(units=1, activation='sigmoid')\n",
        "  ])\n",
        "  \n",
        "  d_l2.compile(loss='binary_crossentropy', optimizer='rmsprop', \n",
        "             metrics=['accuracy'])\n",
        "  \n",
        "  #return d_l2\n",
        "  \n",
        "  # TRAIN SESSION \n",
        "  h_l2 = d_l2.fit(X_train_features, y_train, epochs=epochs, verbose=0, \n",
        "                batch_size=batch_size, \n",
        "                validation_data=(X_test_features, y_test))\n",
        "\n",
        "  test_loss, test_acc = d_l2.evaluate(X_test_features, y_test, verbose=0)\n",
        "    \n",
        "  print(\"L2 REGULARIZATION ACCURACY:\", test_acc)\n",
        "  return h_l2\n",
        "  \n",
        "\n",
        "def drop(X_train_features, y_train,X_test_features, y_test1): ## NN with 2 hidden layers and L2 regularization\n",
        "  \n",
        "  d_hd = Sequential([\n",
        "    Dropout(0.1, input_shape=(number_of_features,)),\n",
        "    Dense(units=64, activation='relu'),\n",
        "    Dropout(0.3),\n",
        "    Dense(units=32, activation='relu'),\n",
        "    Dropout(0.3),\n",
        "    Dense(units=1, activation='sigmoid')\n",
        "])\n",
        "  \n",
        "  d_hd.compile(loss='binary_crossentropy', optimizer='rmsprop', \n",
        "             metrics=['accuracy'])\n",
        "  \n",
        "  #return d_hd\n",
        "  \n",
        "  #TRAIN SESSION\n",
        "  h_hd = d_hd.fit(X_train_features, y_train, epochs=epochs, verbose=0, \n",
        "                batch_size=batch_size, \n",
        "                validation_data=(X_test_features, y_test))\n",
        "\n",
        "  test_loss, test_acc = d_hd.evaluate(X_test_features, y_test, verbose=0)\n",
        "    \n",
        "  print(\"DROPOUT MODEL ACCURACY:\", test_acc)\n",
        "  return h_hd"
      ],
      "execution_count": 0,
      "outputs": []
    },
    {
      "cell_type": "code",
      "metadata": {
        "id": "H1Eqn_1rmUNa",
        "colab_type": "code",
        "colab": {}
      },
      "source": [
        "def create_model(dense_layer_sizes, optimizer=\"adam\", dropout=0.1, init='uniform', nbr_features=1000, dense_nparams=256):\n",
        "    model = Sequential()\n",
        "    model.add(Dense(dense_nparams, activation='relu', input_shape=(nbr_features,), kernel_initializer=init,)) \n",
        "    model.add(Dropout(dropout), )\n",
        "    for layer_size in dense_layer_sizes:\n",
        "        model.add(Dense(layer_size, activation='relu'))\n",
        "        model.add(Dropout(dropout), )\n",
        "    model.add(Dense(1, activation='sigmoid'))\n",
        "    model.compile(loss='binary_crossentropy', optimizer=optimizer, metrics=[\"accuracy\"])\n",
        "    return model"
      ],
      "execution_count": 0,
      "outputs": []
    },
    {
      "cell_type": "code",
      "metadata": {
        "id": "lVy3uaGQn7qN",
        "colab_type": "code",
        "colab": {
          "base_uri": "https://localhost:8080/",
          "height": 391
        },
        "outputId": "a020cf47-300a-429a-df03-9b721e456988"
      },
      "source": [
        "m=create_model((10,10))\n",
        "m.summary()"
      ],
      "execution_count": 23,
      "outputs": [
        {
          "output_type": "stream",
          "text": [
            "Model: \"sequential_2\"\n",
            "_________________________________________________________________\n",
            "Layer (type)                 Output Shape              Param #   \n",
            "=================================================================\n",
            "dense_5 (Dense)              (None, 256)               256256    \n",
            "_________________________________________________________________\n",
            "dropout_4 (Dropout)          (None, 256)               0         \n",
            "_________________________________________________________________\n",
            "dense_6 (Dense)              (None, 10)                2570      \n",
            "_________________________________________________________________\n",
            "dropout_5 (Dropout)          (None, 10)                0         \n",
            "_________________________________________________________________\n",
            "dense_7 (Dense)              (None, 10)                110       \n",
            "_________________________________________________________________\n",
            "dropout_6 (Dropout)          (None, 10)                0         \n",
            "_________________________________________________________________\n",
            "dense_8 (Dense)              (None, 1)                 11        \n",
            "=================================================================\n",
            "Total params: 258,947\n",
            "Trainable params: 258,947\n",
            "Non-trainable params: 0\n",
            "_________________________________________________________________\n"
          ],
          "name": "stdout"
        }
      ]
    },
    {
      "cell_type": "code",
      "metadata": {
        "id": "-OavpnWTLONW",
        "colab_type": "code",
        "colab": {}
      },
      "source": [
        "def early(name,rounds):\n",
        "  callbacks = [EarlyStopping(monitor='val_loss', patience=rounds),\n",
        "              ModelCheckpoint(\n",
        "                  filepath=name, \n",
        "                  monitor='val_loss', \n",
        "                  save_best_only=True)\n",
        "              ]\n",
        "  return callbacks\n"
      ],
      "execution_count": 0,
      "outputs": []
    },
    {
      "cell_type": "code",
      "metadata": {
        "id": "Lc8dC7OtGpop",
        "colab_type": "code",
        "colab": {}
      },
      "source": [
        "def compareReg():# 50 epochs !! Compare Regularization Algorithms , comment out to exclude model \n",
        "  #basicmodel=basic(X_train_features, Y_train_soft,X_test_features, Y_test_soft)\n",
        "  #l1model=regl1(X_train_features, y_train ,X_test_features, y_test,0.001)\n",
        "  l2model=regl2(X_train_features, y_train ,X_test_features, y_test, 0.1)\n",
        "  #dropoutmodel=drop(X_train_features, y_train ,X_test_features, y_test)\n",
        "  #pff(basicmodel,'BASIC')\n",
        "  #pff(l1model,'L1 REG')\n",
        "  pff(l2model,'L2 REG')\n",
        "  #pff(dropoutmodel,'DROPOUT')"
      ],
      "execution_count": 0,
      "outputs": []
    },
    {
      "cell_type": "code",
      "metadata": {
        "id": "IHQRabpt3sD7",
        "colab_type": "code",
        "outputId": "31df0a56-f70d-43fa-f8e7-af4d2c3f8455",
        "colab": {
          "base_uri": "https://localhost:8080/",
          "height": 313
        }
      },
      "source": [
        "compareReg()"
      ],
      "execution_count": 28,
      "outputs": [
        {
          "output_type": "stream",
          "text": [
            "L2 REGULARIZATION ACCURACY: 0.8231599926948547\n"
          ],
          "name": "stdout"
        },
        {
          "output_type": "display_data",
          "data": {
            "image/png": "[encoded data removed]",
            "text/plain": [
              "<Figure size 432x288 with 1 Axes>"
            ]
          },
          "metadata": {
            "tags": []
          }
        }
      ]
    },
    {
      "cell_type": "code",
      "metadata": {
        "id": "DPhb-QgMEzBE",
        "colab_type": "code",
        "colab": {}
      },
      "source": [
        "def crossValidation(X,Y,folds): \n",
        "  seed = 1\n",
        "  np.random.seed(seed)\n",
        "  kfold = StratifiedKFold(n_splits=folds, shuffle=True, random_state=seed)\n",
        "  cvscores = []\n",
        "  for train, test in kfold.split(X, Y):\n",
        "    # create model\n",
        "    model=regl2([],[],[],[],0.009)###REMEMBER TO COMMENT OUT AND BRING BACK ONLY THE MODEL\n",
        "    # Fit the model\n",
        "    model.fit(X[train], Y[train], epochs=epochs, batch_size=1000, verbose=2)\n",
        "    # evaluate the model\n",
        "    scores = model.evaluate(X[test], Y[test], verbose=0)\n",
        "    print(\"%s: %.2f%%\" % (model.metrics_names[1], scores[1]*100))\n",
        "    cvscores.append(scores[1] * 100)\n",
        "  print(\"%.2f%% (+/- %.2f%%)\" % (np.mean(cvscores), np.std(cvscores)))"
      ],
      "execution_count": 0,
      "outputs": []
    },
    {
      "cell_type": "code",
      "metadata": {
        "id": "g-RvjiZLDupt",
        "colab_type": "code",
        "colab": {}
      },
      "source": [
        "def grid(model_function,X,Y):  # https://machinelearningmastery.com/grid-search-hyperparameters-deep-learning-models-python-keras/ \n",
        "  \n",
        "  dense_layer_sizes = [(128,64,32,16),(128,128,128),(256,256,128),(512,1024)]\n",
        "  param_grid = dict(dense_layer_sizes=dense_layer_sizes)\n",
        "  print(param_grid)\n",
        "  model = KerasClassifier(build_fn=model_function,epochs=50, batch_size=1000)\n",
        "  grid = GridSearchCV(estimator=model, param_grid=param_grid, n_jobs=-1 ,cv=2,verbose=1)\n",
        "  grid_result = grid.fit(X, Y)\n",
        "  # summarize results\n",
        "  print(\"Best: %f using %s\" % (grid_result.best_score_, grid_result.best_params_))\n",
        "  means = grid_result.cv_results_['mean_test_score']\n",
        "  stds = grid_result.cv_results_['std_test_score']\n",
        "  params = grid_result.cv_results_['params']\n",
        "  for mean, stdev, param in zip(means, stds, params):\n",
        "      print(\"%f (%f) with: %r\" % (mean, stdev, param))\n"
      ],
      "execution_count": 0,
      "outputs": []
    },
    {
      "cell_type": "code",
      "metadata": {
        "id": "aHawxTTqXXJI",
        "colab_type": "code",
        "colab": {
          "base_uri": "https://localhost:8080/",
          "height": 1000
        },
        "outputId": "40ced8ac-082b-4534-fc7b-2e83f89fee1d"
      },
      "source": [
        "grid(create_model,X,Y)"
      ],
      "execution_count": 38,
      "outputs": [
        {
          "output_type": "stream",
          "text": [
            "{'dense_layer_sizes': [(128, 64, 32, 16), (128, 128, 128), (256, 256, 128), (512, 1024)]}\n",
            "Fitting 2 folds for each of 4 candidates, totalling 8 fits\n"
          ],
          "name": "stdout"
        },
        {
          "output_type": "stream",
          "text": [
            "[Parallel(n_jobs=-1)]: Using backend LokyBackend with 2 concurrent workers.\n",
            "[Parallel(n_jobs=-1)]: Done   8 out of   8 | elapsed: 10.2min finished\n"
          ],
          "name": "stderr"
        },
        {
          "output_type": "stream",
          "text": [
            "Epoch 1/50\n",
            "50000/50000 [==============================] - 4s 72us/step - loss: 0.5581 - accuracy: 0.7153\n",
            "Epoch 2/50\n",
            "50000/50000 [==============================] - 3s 60us/step - loss: 0.3318 - accuracy: 0.8610\n",
            "Epoch 3/50\n",
            "50000/50000 [==============================] - 3s 60us/step - loss: 0.2947 - accuracy: 0.8746\n",
            "Epoch 4/50\n",
            "50000/50000 [==============================] - 3s 60us/step - loss: 0.2614 - accuracy: 0.8895\n",
            "Epoch 5/50\n",
            "50000/50000 [==============================] - 3s 60us/step - loss: 0.2268 - accuracy: 0.9056\n",
            "Epoch 6/50\n",
            "50000/50000 [==============================] - 3s 60us/step - loss: 0.1918 - accuracy: 0.9212\n",
            "Epoch 7/50\n",
            "50000/50000 [==============================] - 3s 60us/step - loss: 0.1578 - accuracy: 0.9364\n",
            "Epoch 8/50\n",
            "50000/50000 [==============================] - 3s 60us/step - loss: 0.1276 - accuracy: 0.9484\n",
            "Epoch 9/50\n",
            "50000/50000 [==============================] - 3s 59us/step - loss: 0.0995 - accuracy: 0.9612\n",
            "Epoch 10/50\n",
            "50000/50000 [==============================] - 3s 59us/step - loss: 0.0824 - accuracy: 0.9676\n",
            "Epoch 11/50\n",
            "50000/50000 [==============================] - 3s 60us/step - loss: 0.0700 - accuracy: 0.9733\n",
            "Epoch 12/50\n",
            "50000/50000 [==============================] - 3s 61us/step - loss: 0.0598 - accuracy: 0.9779\n",
            "Epoch 13/50\n",
            "50000/50000 [==============================] - 3s 59us/step - loss: 0.0493 - accuracy: 0.9816\n",
            "Epoch 14/50\n",
            "50000/50000 [==============================] - 3s 60us/step - loss: 0.0417 - accuracy: 0.9846\n",
            "Epoch 15/50\n",
            "50000/50000 [==============================] - 3s 60us/step - loss: 0.0360 - accuracy: 0.9865\n",
            "Epoch 16/50\n",
            "50000/50000 [==============================] - 3s 59us/step - loss: 0.0420 - accuracy: 0.9856\n",
            "Epoch 17/50\n",
            "50000/50000 [==============================] - 3s 60us/step - loss: 0.0330 - accuracy: 0.9887\n",
            "Epoch 18/50\n",
            "50000/50000 [==============================] - 3s 60us/step - loss: 0.0249 - accuracy: 0.9914\n",
            "Epoch 19/50\n",
            "50000/50000 [==============================] - 3s 60us/step - loss: 0.0244 - accuracy: 0.9918\n",
            "Epoch 20/50\n",
            "50000/50000 [==============================] - 3s 60us/step - loss: 0.0276 - accuracy: 0.9907\n",
            "Epoch 21/50\n",
            "50000/50000 [==============================] - 3s 59us/step - loss: 0.0255 - accuracy: 0.9914\n",
            "Epoch 22/50\n",
            "50000/50000 [==============================] - 3s 60us/step - loss: 0.0282 - accuracy: 0.9901\n",
            "Epoch 23/50\n",
            "50000/50000 [==============================] - 3s 59us/step - loss: 0.0185 - accuracy: 0.9943\n",
            "Epoch 24/50\n",
            "50000/50000 [==============================] - 3s 59us/step - loss: 0.0165 - accuracy: 0.9947\n",
            "Epoch 25/50\n",
            "50000/50000 [==============================] - 3s 59us/step - loss: 0.0165 - accuracy: 0.9946\n",
            "Epoch 26/50\n",
            "50000/50000 [==============================] - 3s 60us/step - loss: 0.0161 - accuracy: 0.9942\n",
            "Epoch 27/50\n",
            "50000/50000 [==============================] - 3s 59us/step - loss: 0.0185 - accuracy: 0.9936\n",
            "Epoch 28/50\n",
            "50000/50000 [==============================] - 3s 59us/step - loss: 0.0155 - accuracy: 0.9951\n",
            "Epoch 29/50\n",
            "50000/50000 [==============================] - 3s 60us/step - loss: 0.0158 - accuracy: 0.9946\n",
            "Epoch 30/50\n",
            "50000/50000 [==============================] - 3s 59us/step - loss: 0.0181 - accuracy: 0.9939\n",
            "Epoch 31/50\n",
            "50000/50000 [==============================] - 3s 58us/step - loss: 0.0142 - accuracy: 0.9956\n",
            "Epoch 32/50\n",
            "50000/50000 [==============================] - 3s 59us/step - loss: 0.0125 - accuracy: 0.9956\n",
            "Epoch 33/50\n",
            "50000/50000 [==============================] - 3s 60us/step - loss: 0.0142 - accuracy: 0.9951\n",
            "Epoch 34/50\n",
            "50000/50000 [==============================] - 3s 59us/step - loss: 0.0140 - accuracy: 0.9952\n",
            "Epoch 35/50\n",
            "50000/50000 [==============================] - 3s 59us/step - loss: 0.0116 - accuracy: 0.9960\n",
            "Epoch 36/50\n",
            "50000/50000 [==============================] - 3s 59us/step - loss: 0.0140 - accuracy: 0.9953\n",
            "Epoch 37/50\n",
            "50000/50000 [==============================] - 3s 60us/step - loss: 0.0106 - accuracy: 0.9967\n",
            "Epoch 38/50\n",
            "50000/50000 [==============================] - 3s 59us/step - loss: 0.0125 - accuracy: 0.9958\n",
            "Epoch 39/50\n",
            "50000/50000 [==============================] - 3s 59us/step - loss: 0.0107 - accuracy: 0.9966\n",
            "Epoch 40/50\n",
            "50000/50000 [==============================] - 3s 60us/step - loss: 0.0104 - accuracy: 0.9964\n",
            "Epoch 41/50\n",
            "50000/50000 [==============================] - 3s 59us/step - loss: 0.0122 - accuracy: 0.9957\n",
            "Epoch 42/50\n",
            "50000/50000 [==============================] - 3s 59us/step - loss: 0.0095 - accuracy: 0.9967\n",
            "Epoch 43/50\n",
            "50000/50000 [==============================] - 3s 60us/step - loss: 0.0099 - accuracy: 0.9968\n",
            "Epoch 44/50\n",
            "50000/50000 [==============================] - 3s 60us/step - loss: 0.0103 - accuracy: 0.9968\n",
            "Epoch 45/50\n",
            "50000/50000 [==============================] - 3s 60us/step - loss: 0.0092 - accuracy: 0.9969\n",
            "Epoch 46/50\n",
            "50000/50000 [==============================] - 3s 59us/step - loss: 0.0104 - accuracy: 0.9967\n",
            "Epoch 47/50\n",
            "50000/50000 [==============================] - 3s 60us/step - loss: 0.0081 - accuracy: 0.9974\n",
            "Epoch 48/50\n",
            "50000/50000 [==============================] - 3s 59us/step - loss: 0.0114 - accuracy: 0.9962\n",
            "Epoch 49/50\n",
            "50000/50000 [==============================] - 3s 59us/step - loss: 0.0082 - accuracy: 0.9974\n",
            "Epoch 50/50\n",
            "50000/50000 [==============================] - 3s 60us/step - loss: 0.0088 - accuracy: 0.9972\n",
            "Best: 0.850000 using {'dense_layer_sizes': (256, 256, 128)}\n",
            "0.849600 (0.001760) with: {'dense_layer_sizes': (128, 64, 32, 16)}\n",
            "0.848580 (0.000820) with: {'dense_layer_sizes': (128, 128, 128)}\n",
            "0.850000 (0.000240) with: {'dense_layer_sizes': (256, 256, 128)}\n",
            "0.847080 (0.000320) with: {'dense_layer_sizes': (512, 1024)}\n"
          ],
          "name": "stdout"
        }
      ]
    }
  ]
}
