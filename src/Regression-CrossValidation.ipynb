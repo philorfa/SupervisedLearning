{
 "cells": [
  {
   "cell_type": "code",
   "execution_count": 1,
   "metadata": {},
   "outputs": [
    {
     "name": "stdout",
     "output_type": "stream",
     "text": [
      "Requirement already up-to-date: scikit-learn in c:\\users\\user\\anaconda3\\lib\\site-packages (0.22.2.post1)\n",
      "Requirement already satisfied, skipping upgrade: joblib>=0.11 in c:\\users\\user\\anaconda3\\lib\\site-packages (from scikit-learn) (0.13.2)\n",
      "Requirement already satisfied, skipping upgrade: numpy>=1.11.0 in c:\\users\\user\\anaconda3\\lib\\site-packages (from scikit-learn) (1.16.5)\n",
      "Requirement already satisfied, skipping upgrade: scipy>=0.17.0 in c:\\users\\user\\anaconda3\\lib\\site-packages (from scikit-learn) (1.3.1)\n"
     ]
    },
    {
     "name": "stderr",
     "output_type": "stream",
     "text": [
      "WARNING: No metadata found in c:\\users\\user\\anaconda3\\lib\\site-packages\n",
      "WARNING: No metadata found in c:\\users\\user\\anaconda3\\lib\\site-packages\n"
     ]
    },
    {
     "name": "stdout",
     "output_type": "stream",
     "text": [
      "Requirement already up-to-date: imbalanced-learn in c:\\users\\user\\anaconda3\\lib\\site-packages (0.6.2)\n",
      "Requirement already satisfied, skipping upgrade: numpy>=1.11 in c:\\users\\user\\anaconda3\\lib\\site-packages (from imbalanced-learn) (1.16.5)\n",
      "Requirement already satisfied, skipping upgrade: joblib>=0.11 in c:\\users\\user\\anaconda3\\lib\\site-packages (from imbalanced-learn) (0.13.2)\n",
      "Requirement already satisfied, skipping upgrade: scipy>=0.17 in c:\\users\\user\\anaconda3\\lib\\site-packages (from imbalanced-learn) (1.3.1)\n",
      "Requirement already satisfied, skipping upgrade: scikit-learn>=0.22 in c:\\users\\user\\anaconda3\\lib\\site-packages (from imbalanced-learn) (0.22.2.post1)\n"
     ]
    },
    {
     "name": "stderr",
     "output_type": "stream",
     "text": [
      "WARNING: No metadata found in c:\\users\\user\\anaconda3\\lib\\site-packages\n",
      "WARNING: No metadata found in c:\\users\\user\\anaconda3\\lib\\site-packages\n"
     ]
    }
   ],
   "source": [
    "#ΤΟ ΘΕΛΩ ΠΑΝΤΟΤΕ\n",
    "! pip install -U scikit-learn\n",
    "#ΤΟ ΘΕΛΩ ΓΙΑ ΝΑ ΚΑΝΩ IMBALANCE ΤΟ DATASET ΜΟΥ\n",
    "! pip install -U imbalanced-learn"
   ]
  },
  {
   "cell_type": "code",
   "execution_count": 2,
   "metadata": {},
   "outputs": [],
   "source": [
    "#ΧΡΗΣΙΜΑ ΕΡΓΑΛΕΙΑ ΠΟΥ ΑΡΓΑ Η ΓΡΗΓΟΡΑ ΘΑ ΤΑ ΤΑ ΧΡΕΙΑΣΤΕΙΣ\n",
    "import numpy as np\n",
    "import pandas as pd\n",
    "import matplotlib.pyplot as plt\n",
    "%matplotlib inline\n",
    "\n",
    "#ΜΑΘΗΜΑΤΙΚΑ ΕΡΓΑΛΕΙΑ\n",
    "from math import sqrt\n",
    "\n",
    "\n",
    "#ΧΡΗΣΙΜΟ ΓΙΑ ΝΑ ΠΑΡΕΙΣ ΓΡΑΦΙΚΕΣ ΠΑΡΑΣΤΑΣΕΙΣ\n",
    "import seaborn as sns\n",
    "\n",
    "#ΕΡΓΑΛΕΙΑ ΓΙΑ ΝΑ ΚΑΝΕΙς IMPUTE TO DATASET ΣΟΥ ΔΗΛΑΔΗ ΝΑ ΓΕΜΊΣΕΙΣ ΜΕ ΤΙΜΕΣ ΤΑ NaN ΚΕΛΙΑ - ΛΕΙΤΟΥΡΓΕΙ ΓΙΑ ΑΡΙΘΜΗΤΙΚΕς ΤΙΜΕΣ\n",
    "from sklearn.impute import SimpleImputer \n",
    "from sklearn.experimental import enable_iterative_imputer\n",
    "from sklearn.impute import IterativeImputer\n",
    "\n",
    "#ΓΙΑ ΝΑ ΚΑΝΕΙΣ LABEL ENCODER\n",
    "from sklearn.preprocessing import LabelEncoder\n",
    "\n",
    "#ΟΤΑΝ ΘΕΛΕΙΣ ΝΑ ΚΑΝΕΙΣ SPLIT ΤΟ DATASET ΣΟΥ ΣΕ TRAIN-TEST\n",
    "from sklearn.model_selection import train_test_split\n",
    "\n",
    "from sklearn import preprocessing\n",
    "from sklearn.decomposition import PCA\n",
    "from sklearn.feature_selection import VarianceThreshold\n",
    "#from sklearn.preprocessing import LabelEncoder\n",
    "\n",
    "#ΕΡΓΑΛΕΙΑ ΓΙΑ ΝΑ ΠΡΑΓΜΑΤΟΠΟΙΗΣΩ ΙΜΒΑLANCE - OVERSAMPLING - UNDERSAMPLING\n",
    "from imblearn.over_sampling import RandomOverSampler\n",
    "#from imblearn.under_sampling import RandomUnderSampler\n",
    "#from imblearn.under_sampling import TomekLinks\n",
    "#from imblearn.over_sampling import SMOTE #ΠΡΟΚΑΛΕΙ ΘΕΜΑΤΑ ΟΤΑΝ ΕΧΟΥΜΕ ΤΕΡΑΣΤΙΕΣ ΔΙΑΦΟΡΕΣ , ΧΡΗΣΙΜΟΠΟΙΕΙ KNN\n",
    "#from imblearn.combine import SMOTETomek\n",
    "#from imblearn.under_sampling import ClusterCentroids\n",
    "\n",
    "#ΕΡΓΑΛΕΙΑ ΓΙΑ RIGRESSION\n",
    "from sklearn.linear_model import LinearRegression\n",
    "from sklearn.linear_model import Ridge\n",
    "from sklearn.metrics import mean_absolute_error, mean_squared_error\n",
    "\n",
    "#ΓΙΑ ΝΑ ΚΑΝΕΙΣ CROSS VALIDATION\n",
    "from sklearn.model_selection import cross_val_score"
   ]
  },
  {
   "cell_type": "code",
   "execution_count": 3,
   "metadata": {},
   "outputs": [],
   "source": [
    "abalone = pd.read_csv(\"datasets-master-57dcb67ef80b25c53c6e3b19a7f147d3c477446b/Abalone/abalone.data.csv\",header=None)"
   ]
  },
  {
   "cell_type": "code",
   "execution_count": 4,
   "metadata": {},
   "outputs": [],
   "source": [
    "abalone.columns=['Sex','Lenght','Diameter','Height','Whole_Weight','Shucked_Weight','Viscera_Weight','Shell_Weight','Rings_Target']\n",
    "abalone_data=pd.get_dummies(abalone,columns=['Sex'])\n",
    "cols = list(abalone_data.columns.values) \n",
    "cols.pop(cols.index('Rings_Target')) \n",
    "abalone_data = abalone_data[cols+['Rings_Target']]"
   ]
  },
  {
   "cell_type": "code",
   "execution_count": 5,
   "metadata": {},
   "outputs": [],
   "source": [
    "abalone_features_df=abalone_data.iloc[:,:10]\n",
    "abalone_labels_df=abalone_data.iloc[:,[10]]\n",
    "abalone_train, abalone_test, abalone_train_labels, abalone_test_labels = train_test_split(abalone_features_df, abalone_labels_df, test_size=0.2,random_state=1)\n",
    "abalone_train.index = range(len(abalone_train))\n",
    "abalone_test.index =range(len(abalone_test))\n",
    "abalone_train_labels.index = range(len(abalone_train_labels))\n",
    "abalone_test_labels.index = range(len(abalone_test_labels))"
   ]
  },
  {
   "cell_type": "code",
   "execution_count": 6,
   "metadata": {},
   "outputs": [
    {
     "data": {
      "text/html": [
       "<div>\n",
       "<style scoped>\n",
       "    .dataframe tbody tr th:only-of-type {\n",
       "        vertical-align: middle;\n",
       "    }\n",
       "\n",
       "    .dataframe tbody tr th {\n",
       "        vertical-align: top;\n",
       "    }\n",
       "\n",
       "    .dataframe thead th {\n",
       "        text-align: right;\n",
       "    }\n",
       "</style>\n",
       "<table border=\"1\" class=\"dataframe\">\n",
       "  <thead>\n",
       "    <tr style=\"text-align: right;\">\n",
       "      <th></th>\n",
       "      <th>Lenght</th>\n",
       "      <th>Diameter</th>\n",
       "      <th>Height</th>\n",
       "      <th>Whole_Weight</th>\n",
       "      <th>Shucked_Weight</th>\n",
       "      <th>Viscera_Weight</th>\n",
       "      <th>Shell_Weight</th>\n",
       "      <th>Sex_F</th>\n",
       "      <th>Sex_I</th>\n",
       "      <th>Sex_M</th>\n",
       "    </tr>\n",
       "  </thead>\n",
       "  <tbody>\n",
       "    <tr>\n",
       "      <td>0</td>\n",
       "      <td>0.455</td>\n",
       "      <td>0.350</td>\n",
       "      <td>0.120</td>\n",
       "      <td>0.4835</td>\n",
       "      <td>0.1815</td>\n",
       "      <td>0.1440</td>\n",
       "      <td>0.160</td>\n",
       "      <td>0</td>\n",
       "      <td>0</td>\n",
       "      <td>1</td>\n",
       "    </tr>\n",
       "    <tr>\n",
       "      <td>1</td>\n",
       "      <td>0.255</td>\n",
       "      <td>0.195</td>\n",
       "      <td>0.055</td>\n",
       "      <td>0.0725</td>\n",
       "      <td>0.0285</td>\n",
       "      <td>0.0170</td>\n",
       "      <td>0.021</td>\n",
       "      <td>0</td>\n",
       "      <td>1</td>\n",
       "      <td>0</td>\n",
       "    </tr>\n",
       "    <tr>\n",
       "      <td>2</td>\n",
       "      <td>0.520</td>\n",
       "      <td>0.410</td>\n",
       "      <td>0.110</td>\n",
       "      <td>0.5185</td>\n",
       "      <td>0.2165</td>\n",
       "      <td>0.0915</td>\n",
       "      <td>0.184</td>\n",
       "      <td>0</td>\n",
       "      <td>1</td>\n",
       "      <td>0</td>\n",
       "    </tr>\n",
       "    <tr>\n",
       "      <td>3</td>\n",
       "      <td>0.620</td>\n",
       "      <td>0.470</td>\n",
       "      <td>0.155</td>\n",
       "      <td>0.9660</td>\n",
       "      <td>0.4470</td>\n",
       "      <td>0.1710</td>\n",
       "      <td>0.284</td>\n",
       "      <td>0</td>\n",
       "      <td>1</td>\n",
       "      <td>0</td>\n",
       "    </tr>\n",
       "    <tr>\n",
       "      <td>4</td>\n",
       "      <td>0.615</td>\n",
       "      <td>0.490</td>\n",
       "      <td>0.155</td>\n",
       "      <td>0.9885</td>\n",
       "      <td>0.4145</td>\n",
       "      <td>0.1950</td>\n",
       "      <td>0.345</td>\n",
       "      <td>0</td>\n",
       "      <td>1</td>\n",
       "      <td>0</td>\n",
       "    </tr>\n",
       "  </tbody>\n",
       "</table>\n",
       "</div>"
      ],
      "text/plain": [
       "   Lenght  Diameter  Height  Whole_Weight  Shucked_Weight  Viscera_Weight  \\\n",
       "0   0.455     0.350   0.120        0.4835          0.1815          0.1440   \n",
       "1   0.255     0.195   0.055        0.0725          0.0285          0.0170   \n",
       "2   0.520     0.410   0.110        0.5185          0.2165          0.0915   \n",
       "3   0.620     0.470   0.155        0.9660          0.4470          0.1710   \n",
       "4   0.615     0.490   0.155        0.9885          0.4145          0.1950   \n",
       "\n",
       "   Shell_Weight  Sex_F  Sex_I  Sex_M  \n",
       "0         0.160      0      0      1  \n",
       "1         0.021      0      1      0  \n",
       "2         0.184      0      1      0  \n",
       "3         0.284      0      1      0  \n",
       "4         0.345      0      1      0  "
      ]
     },
     "execution_count": 6,
     "metadata": {},
     "output_type": "execute_result"
    }
   ],
   "source": [
    "abalone_train.head()"
   ]
  },
  {
   "cell_type": "code",
   "execution_count": 7,
   "metadata": {},
   "outputs": [],
   "source": [
    "def scaled_Standard(train,test):\n",
    "    cols1=train.columns\n",
    "    cols2=test.columns\n",
    "    scaler = preprocessing.StandardScaler().fit(train)\n",
    "    train_scaled = scaler.transform(train)\n",
    "    test_scaled = scaler.transform(test)\n",
    "    train_scaled=pd.DataFrame(data=train_scaled,columns=cols1)\n",
    "    test_scaled=pd.DataFrame(data=test_scaled,columns=cols2)\n",
    "    return train_scaled,test_scaled\n",
    "\n",
    "def variance(train,test,thresh):\n",
    "    #cols1=train.columns\n",
    "    #cols2=test.columns\n",
    "    variance_thresh = VarianceThreshold(thresh)\n",
    "    x_train = variance_thresh.fit_transform(train)\n",
    "    x_test = variance_thresh.transform(test)\n",
    "    x_train=pd.DataFrame(data=x_train)#,columns=cols1)\n",
    "    x_test=pd.DataFrame(data=x_test)#,columns=cols2)\n",
    "    return x_train, x_test\n",
    "\n",
    "def randomoversampler(train,train_labels):\n",
    "    cols1=train.columns\n",
    "    cols2=train_labels.columns\n",
    "    ros = RandomOverSampler()\n",
    "    X_ros, y_ros = ros.fit_sample(train, train_labels)\n",
    "    X_ros=pd.DataFrame(data=X_ros,columns=cols1)\n",
    "    y_ros=pd.DataFrame(data=y_ros,columns=cols2)\n",
    "    return X_ros, y_ros\n",
    "\n",
    "def pca(n,train,test):\n",
    "    #cols1=train.columns\n",
    "    #cols2=test.columns\n",
    "    pcaa = PCA(n_components=n)\n",
    "    trainPCA =  pcaa.fit_transform(train)\n",
    "    testPCA = pcaa.transform(test)\n",
    "    trainPCA=pd.DataFrame(data=trainPCA)#,columns=cols1)\n",
    "    testPCA=pd.DataFrame(data=testPCA)#,columns=cols2)\n",
    "    return trainPCA , testPCA"
   ]
  },
  {
   "cell_type": "code",
   "execution_count": 8,
   "metadata": {},
   "outputs": [],
   "source": [
    "final_train,final_test=scaled_Standard(abalone_train,abalone_test)\n",
    "final_train,final_test=variance(final_train,final_test,0.1)\n",
    "final_train,final_train_labels=randomoversampler(final_train,abalone_train_labels)\n",
    "#final_train,final_test=pca(7,final_train,final_test)"
   ]
  },
  {
   "cell_type": "code",
   "execution_count": 9,
   "metadata": {},
   "outputs": [],
   "source": [
    "final_train=final_train\n",
    "final_test=final_test\n",
    "final_train_labels=final_train_labels\n",
    "#final_test_labels=final_test_labels\n",
    "\n",
    "final_test_labels=abalone_test_labels\n"
   ]
  },
  {
   "cell_type": "code",
   "execution_count": 10,
   "metadata": {},
   "outputs": [
    {
     "data": {
      "text/html": [
       "<div>\n",
       "<style scoped>\n",
       "    .dataframe tbody tr th:only-of-type {\n",
       "        vertical-align: middle;\n",
       "    }\n",
       "\n",
       "    .dataframe tbody tr th {\n",
       "        vertical-align: top;\n",
       "    }\n",
       "\n",
       "    .dataframe thead th {\n",
       "        text-align: right;\n",
       "    }\n",
       "</style>\n",
       "<table border=\"1\" class=\"dataframe\">\n",
       "  <thead>\n",
       "    <tr style=\"text-align: right;\">\n",
       "      <th></th>\n",
       "      <th>0</th>\n",
       "      <th>1</th>\n",
       "      <th>2</th>\n",
       "      <th>3</th>\n",
       "      <th>4</th>\n",
       "      <th>5</th>\n",
       "      <th>6</th>\n",
       "      <th>7</th>\n",
       "      <th>8</th>\n",
       "      <th>9</th>\n",
       "    </tr>\n",
       "  </thead>\n",
       "  <tbody>\n",
       "    <tr>\n",
       "      <td>0</td>\n",
       "      <td>-0.692968</td>\n",
       "      <td>-0.679447</td>\n",
       "      <td>-0.924484</td>\n",
       "      <td>-0.769496</td>\n",
       "      <td>-0.770455</td>\n",
       "      <td>-0.852796</td>\n",
       "      <td>-0.779506</td>\n",
       "      <td>1.48021</td>\n",
       "      <td>-0.690188</td>\n",
       "      <td>-0.756462</td>\n",
       "    </tr>\n",
       "    <tr>\n",
       "      <td>1</td>\n",
       "      <td>0.343141</td>\n",
       "      <td>0.273463</td>\n",
       "      <td>0.242649</td>\n",
       "      <td>0.324918</td>\n",
       "      <td>0.993351</td>\n",
       "      <td>0.019213</td>\n",
       "      <td>-0.238245</td>\n",
       "      <td>-0.67558</td>\n",
       "      <td>-0.690188</td>\n",
       "      <td>1.321943</td>\n",
       "    </tr>\n",
       "    <tr>\n",
       "      <td>2</td>\n",
       "      <td>-1.273190</td>\n",
       "      <td>-1.281284</td>\n",
       "      <td>-0.807771</td>\n",
       "      <td>-1.210104</td>\n",
       "      <td>-1.209717</td>\n",
       "      <td>-1.113030</td>\n",
       "      <td>-1.171208</td>\n",
       "      <td>-0.67558</td>\n",
       "      <td>-0.690188</td>\n",
       "      <td>1.321943</td>\n",
       "    </tr>\n",
       "    <tr>\n",
       "      <td>3</td>\n",
       "      <td>0.467474</td>\n",
       "      <td>0.474075</td>\n",
       "      <td>-0.107491</td>\n",
       "      <td>-0.070005</td>\n",
       "      <td>0.207185</td>\n",
       "      <td>-0.122317</td>\n",
       "      <td>-0.252489</td>\n",
       "      <td>-0.67558</td>\n",
       "      <td>-0.690188</td>\n",
       "      <td>1.321943</td>\n",
       "    </tr>\n",
       "    <tr>\n",
       "      <td>4</td>\n",
       "      <td>0.011586</td>\n",
       "      <td>-0.177915</td>\n",
       "      <td>-0.107491</td>\n",
       "      <td>-0.465943</td>\n",
       "      <td>-0.597002</td>\n",
       "      <td>-0.451033</td>\n",
       "      <td>-0.209758</td>\n",
       "      <td>1.48021</td>\n",
       "      <td>-0.690188</td>\n",
       "      <td>-0.756462</td>\n",
       "    </tr>\n",
       "  </tbody>\n",
       "</table>\n",
       "</div>"
      ],
      "text/plain": [
       "          0         1         2         3         4         5         6  \\\n",
       "0 -0.692968 -0.679447 -0.924484 -0.769496 -0.770455 -0.852796 -0.779506   \n",
       "1  0.343141  0.273463  0.242649  0.324918  0.993351  0.019213 -0.238245   \n",
       "2 -1.273190 -1.281284 -0.807771 -1.210104 -1.209717 -1.113030 -1.171208   \n",
       "3  0.467474  0.474075 -0.107491 -0.070005  0.207185 -0.122317 -0.252489   \n",
       "4  0.011586 -0.177915 -0.107491 -0.465943 -0.597002 -0.451033 -0.209758   \n",
       "\n",
       "         7         8         9  \n",
       "0  1.48021 -0.690188 -0.756462  \n",
       "1 -0.67558 -0.690188  1.321943  \n",
       "2 -0.67558 -0.690188  1.321943  \n",
       "3 -0.67558 -0.690188  1.321943  \n",
       "4  1.48021 -0.690188 -0.756462  "
      ]
     },
     "execution_count": 10,
     "metadata": {},
     "output_type": "execute_result"
    }
   ],
   "source": [
    "final_test.head()"
   ]
  },
  {
   "cell_type": "markdown",
   "metadata": {},
   "source": [
    "### Εχω τελειώσει την προεργασία τον δεδομένων όπως στο Example"
   ]
  },
  {
   "cell_type": "code",
   "execution_count": 11,
   "metadata": {},
   "outputs": [],
   "source": [
    "#https://scikit-learn.org/stable/modules/generated/sklearn.linear_model.LinearRegression.html\n",
    "def linregression(Train,Label,Test):\n",
    "    regressor = LinearRegression()  \n",
    "    regressor.fit(Train,Label)\n",
    "    y_pred = regressor.predict(Test)\n",
    "    y_pred=pd.DataFrame(data=y_pred,columns=['Linear Prediction'])\n",
    "    return y_pred\n",
    "\n",
    "\n",
    "def ridgeregression(Train,Label,Test,alpha):\n",
    "    regressor=Ridge(alpha=alpha)\n",
    "    regressor.fit(Train,Label)\n",
    "    y_pred = regressor.predict(Test)\n",
    "    y_pred=pd.DataFrame(data=y_pred,columns=['Ridge Prediction'])\n",
    "    return y_pred\n",
    "    \n",
    "    "
   ]
  },
  {
   "cell_type": "code",
   "execution_count": 12,
   "metadata": {},
   "outputs": [],
   "source": [
    "prediction_Linear=linregression(final_train,final_train_labels,final_test)\n",
    "prediction_Ridge=ridgeregression(final_train,final_train_labels,final_test,1.0)"
   ]
  },
  {
   "cell_type": "code",
   "execution_count": 13,
   "metadata": {},
   "outputs": [],
   "source": [
    "visual=pd.concat([final_test_labels, prediction_Linear], axis=1)\n",
    "visual=pd.concat([visual,prediction_Ridge], axis=1)"
   ]
  },
  {
   "cell_type": "code",
   "execution_count": 14,
   "metadata": {},
   "outputs": [
    {
     "data": {
      "image/png": "[encoded data removed]",
      "text/plain": [
       "<Figure size 1152x720 with 1 Axes>"
      ]
     },
     "metadata": {
      "needs_background": "light"
     },
     "output_type": "display_data"
    }
   ],
   "source": [
    "df1 = visual.head(25)\n",
    "df1.plot(kind='bar',figsize=(16,10))\n",
    "plt.grid(which='major', linestyle='-', linewidth='0.5', color='green')\n",
    "plt.grid(which='minor', linestyle=':', linewidth='0.5', color='black')\n",
    "plt.show()"
   ]
  },
  {
   "cell_type": "markdown",
   "metadata": {},
   "source": [
    "Mean Absolute Error (MAE) is the mean of the absolute value of the errors:\n",
    "\n",
    "$$\\frac 1n\\sum_{i=1}^n|y_i-\\hat{y}_i|$$\n",
    "Mean Squared Error (MSE) is the mean of the squared errors:\n",
    "\n",
    "$$\\frac 1n\\sum_{i=1}^n(y_i-\\hat{y}_i)^2$$\n",
    "Root Mean Squared Error (RMSE) is the square root of the mean of the squared errors:\n",
    "\n",
    "$$\\sqrt{\\frac 1n\\sum_{i=1}^n(y_i-\\hat{y}_i)^2}$$\n",
    "Comparing these metrics:\n",
    "\n",
    "* MAE is the easiest to understand, because it's the average error.\n",
    "* MSE is more popular than MAE, because MSE \"punishes\" larger errors, which tends to be useful in the real world.\n",
    "* RMSE is even more popular than MSE, because RMSE is interpretable in the \"y\" units.\n",
    "* All of these are loss functions, because we want to minimize them."
   ]
  },
  {
   "cell_type": "code",
   "execution_count": 15,
   "metadata": {},
   "outputs": [
    {
     "data": {
      "text/html": [
       "<div>\n",
       "<style scoped>\n",
       "    .dataframe tbody tr th:only-of-type {\n",
       "        vertical-align: middle;\n",
       "    }\n",
       "\n",
       "    .dataframe tbody tr th {\n",
       "        vertical-align: top;\n",
       "    }\n",
       "\n",
       "    .dataframe thead th {\n",
       "        text-align: right;\n",
       "    }\n",
       "</style>\n",
       "<table border=\"1\" class=\"dataframe\">\n",
       "  <thead>\n",
       "    <tr style=\"text-align: right;\">\n",
       "      <th></th>\n",
       "      <th>Linear</th>\n",
       "      <th>Ridge</th>\n",
       "    </tr>\n",
       "  </thead>\n",
       "  <tbody>\n",
       "    <tr>\n",
       "      <td>mae</td>\n",
       "      <td>2.713378</td>\n",
       "      <td>2.716031</td>\n",
       "    </tr>\n",
       "    <tr>\n",
       "      <td>mse</td>\n",
       "      <td>11.630979</td>\n",
       "      <td>11.632956</td>\n",
       "    </tr>\n",
       "    <tr>\n",
       "      <td>rmse</td>\n",
       "      <td>3.410422</td>\n",
       "      <td>3.410712</td>\n",
       "    </tr>\n",
       "  </tbody>\n",
       "</table>\n",
       "</div>"
      ],
      "text/plain": [
       "         Linear      Ridge\n",
       "mae    2.713378   2.716031\n",
       "mse   11.630979  11.632956\n",
       "rmse   3.410422   3.410712"
      ]
     },
     "execution_count": 15,
     "metadata": {},
     "output_type": "execute_result"
    }
   ],
   "source": [
    "mae_linear = mean_absolute_error(final_test_labels, prediction_Linear)\n",
    "mse_linear = mean_squared_error(final_test_labels, prediction_Linear)\n",
    "rmse_linear=sqrt(mse_linear)\n",
    "\n",
    "mae_ridge = mean_absolute_error(final_test_labels, prediction_Ridge)\n",
    "mse_ridge = mean_squared_error(final_test_labels, prediction_Ridge)\n",
    "rmse_ridge=sqrt(mse_ridge)\n",
    "\n",
    "data = {'Linear':  [mae_linear,mse_linear ,rmse_linear],\n",
    "        'Ridge': [mae_ridge,mse_ridge ,rmse_ridge],\n",
    "        }\n",
    "\n",
    "df = pd.DataFrame (data)\n",
    "df.index=['mae','mse','rmse']\n",
    "\n",
    "df"
   ]
  },
  {
   "cell_type": "markdown",
   "metadata": {},
   "source": [
    "### Cross-Validation Για Εύρεση του κατάλληλου alpha και βελτιστοποίηση του Ridge Regression\n",
    "\n",
    "Γενικότερα το Cross Validation χρησιμοποιείται για να αξιολογηθεί ένα μοντέλο , παράλληλα με την αξιολόγηση εδώ το χρησιμοποιούμε για parameter tuning\n",
    "Με το k-Fold CV αυτό που γίνεται είναι να χωρίζεται το set σε κ σημεία , στην πρώτη επανάληψη τo 1 κομματι χρησιμοποιείται για testing και τα κ-1 για training στην δεύτερη επανάληψη κτλπ"
   ]
  },
  {
   "cell_type": "code",
   "execution_count": 16,
   "metadata": {},
   "outputs": [],
   "source": [
    "def RidgeCV(low,high,Train,Label,Test,Test_Label):\n",
    "    alpha = list(range(low,high))\n",
    "    cv_scores = []\n",
    "    # perform 5-fold cross validation\n",
    "    for a in alpha:\n",
    "        regressor=Ridge(alpha=a)\n",
    "        scores = cross_val_score(regressor, Train, Label, cv=5, scoring='neg_mean_absolute_error')\n",
    "        cv_scores.append(scores.mean())\n",
    "    mean_error = [-x for x in cv_scores]\n",
    "    # determining best alpha\n",
    "    optimal_alpha = alpha[mean_error.index(min(mean_error))]\n",
    "    print(\"The optimal alpha (calculated in the training set) is %d\" % optimal_alpha)\n",
    "    # για το optimal alpha παίρνουμε και τα αποτέλεσματα στο test set\n",
    "    regressor = Ridge(alpha = optimal_alpha)\n",
    "    regressor.fit(Train, Label)\n",
    "    pred = regressor.predict(Test)\n",
    "    print(\"\\nOptimal mean_error on the test set is\",  mean_absolute_error(Test_Label, pred), \"with alpha=\", optimal_alpha)\n",
    "    pred=pd.DataFrame(data=pred,columns=['RidgeCV Prediction '])\n",
    "    return pred"
   ]
  },
  {
   "cell_type": "code",
   "execution_count": 17,
   "metadata": {},
   "outputs": [
    {
     "name": "stdout",
     "output_type": "stream",
     "text": [
      "The optimal alpha (calculated in the training set) is -26\n",
      "\n",
      "Optimal mean_error on the test set is 2.6601045643097128 with alpha= -26\n"
     ]
    }
   ],
   "source": [
    "prediction_RidgeCV=RidgeCV(-150,150,final_train,final_train_labels,final_test,final_test_labels)"
   ]
  },
  {
   "cell_type": "code",
   "execution_count": 18,
   "metadata": {},
   "outputs": [
    {
     "data": {
      "image/png": "[encoded data removed]",
      "text/plain": [
       "<Figure size 1152x720 with 1 Axes>"
      ]
     },
     "metadata": {
      "needs_background": "light"
     },
     "output_type": "display_data"
    }
   ],
   "source": [
    "visual=pd.concat([visual,prediction_RidgeCV], axis=1)\n",
    "df1 = visual.head(25)\n",
    "df1.plot(kind='bar',figsize=(16,10))\n",
    "plt.grid(which='major', linestyle='-', linewidth='0.5', color='green')\n",
    "plt.grid(which='minor', linestyle=':', linewidth='0.5', color='black')\n",
    "plt.show()"
   ]
  },
  {
   "cell_type": "code",
   "execution_count": 19,
   "metadata": {},
   "outputs": [
    {
     "data": {
      "text/html": [
       "<div>\n",
       "<style scoped>\n",
       "    .dataframe tbody tr th:only-of-type {\n",
       "        vertical-align: middle;\n",
       "    }\n",
       "\n",
       "    .dataframe tbody tr th {\n",
       "        vertical-align: top;\n",
       "    }\n",
       "\n",
       "    .dataframe thead th {\n",
       "        text-align: right;\n",
       "    }\n",
       "</style>\n",
       "<table border=\"1\" class=\"dataframe\">\n",
       "  <thead>\n",
       "    <tr style=\"text-align: right;\">\n",
       "      <th></th>\n",
       "      <th>Linear</th>\n",
       "      <th>Ridge</th>\n",
       "      <th>RidgeCV</th>\n",
       "    </tr>\n",
       "  </thead>\n",
       "  <tbody>\n",
       "    <tr>\n",
       "      <td>mae</td>\n",
       "      <td>2.713378</td>\n",
       "      <td>2.716031</td>\n",
       "      <td>2.660105</td>\n",
       "    </tr>\n",
       "    <tr>\n",
       "      <td>mse</td>\n",
       "      <td>11.630979</td>\n",
       "      <td>11.632956</td>\n",
       "      <td>11.482784</td>\n",
       "    </tr>\n",
       "    <tr>\n",
       "      <td>rmse</td>\n",
       "      <td>3.410422</td>\n",
       "      <td>3.410712</td>\n",
       "      <td>3.388626</td>\n",
       "    </tr>\n",
       "  </tbody>\n",
       "</table>\n",
       "</div>"
      ],
      "text/plain": [
       "         Linear      Ridge    RidgeCV\n",
       "mae    2.713378   2.716031   2.660105\n",
       "mse   11.630979  11.632956  11.482784\n",
       "rmse   3.410422   3.410712   3.388626"
      ]
     },
     "execution_count": 19,
     "metadata": {},
     "output_type": "execute_result"
    }
   ],
   "source": [
    "mae_ridgecv = mean_absolute_error(final_test_labels, prediction_RidgeCV)\n",
    "mse_ridgecv = mean_squared_error(final_test_labels, prediction_RidgeCV)\n",
    "rmse_ridgecv=sqrt(mse_ridgecv)\n",
    "\n",
    "\n",
    "ridge = [mae_ridgecv,mse_ridgecv ,rmse_ridgecv]\n",
    "\n",
    "df['RidgeCV']=ridge\n",
    "df"
   ]
  },
  {
   "cell_type": "code",
   "execution_count": null,
   "metadata": {},
   "outputs": [],
   "source": []
  },
  {
   "cell_type": "code",
   "execution_count": null,
   "metadata": {},
   "outputs": [],
   "source": []
  }
 ],
 "metadata": {
  "kernelspec": {
   "display_name": "Python 3",
   "language": "python",
   "name": "python3"
  },
  "language_info": {
   "codemirror_mode": {
    "name": "ipython",
    "version": 3
   },
   "file_extension": ".py",
   "mimetype": "text/x-python",
   "name": "python",
   "nbconvert_exporter": "python",
   "pygments_lexer": "ipython3",
   "version": "3.6.9"
  }
 },
 "nbformat": 4,
 "nbformat_minor": 4
}
